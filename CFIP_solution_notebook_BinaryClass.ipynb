{
 "cells": [
  {
   "cell_type": "markdown",
   "metadata": {},
   "source": [
    "### Importing libraries"
   ]
  },
  {
   "cell_type": "code",
   "execution_count": 4,
   "metadata": {},
   "outputs": [],
   "source": [
    "import pandas as pd\n",
    "import numpy as np\n",
    "import matplotlib.pyplot as plt\n",
    "from datetime import datetime\n",
    "import seaborn as sns\n",
    "import time\n",
    "\n",
    "import sklearn\n",
    "from sklearn.preprocessing import StandardScaler,MinMaxScaler\n",
    "from sklearn.feature_selection import RFE\n",
    "from sklearn import model_selection\n",
    "from sklearn.model_selection import train_test_split,cross_val_score\n",
    "from sklearn.model_selection import StratifiedKFold\n",
    "from sklearn.model_selection import KFold\n",
    "from sklearn.model_selection import GridSearchCV,RandomizedSearchCV\n",
    "from sklearn.ensemble import GradientBoostingClassifier\n",
    "from sklearn.ensemble import RandomForestClassifier\n",
    "from sklearn.metrics import mean_squared_error\n",
    "from sklearn.metrics import accuracy_score,f1_score,confusion_matrix,precision_score,recall_score,roc_auc_score,roc_curve\n",
    "from sklearn.metrics import classification_report\n",
    "from sklearn.svm import SVC\n",
    "\n",
    "from hyperopt import hp, fmin, tpe, rand, STATUS_OK, Trials\n",
    "\n",
    "from sklearn.feature_selection import SelectKBest\n",
    "from sklearn.feature_selection import chi2\n",
    "\n",
    "from imblearn.over_sampling import SMOTE\n",
    "import xgboost as xgb\n",
    "import lightgbm as lgb\n",
    "\n",
    "import warnings\n",
    "warnings.filterwarnings('ignore')\n",
    "\n",
    "import tensorflow as tf\n",
    "from tensorflow import keras\n",
    "from tensorflow.keras import layers\n",
    "\n",
    "\n",
    "# Data import\n",
    "model_data = pd.read_csv(\"/home/jovyan/work/Machine_Learning/elm_assignment/input/model_data_final.csv\")\n"
   ]
  },
  {
   "cell_type": "markdown",
   "metadata": {},
   "source": [
    "### Data preprocessing"
   ]
  },
  {
   "cell_type": "markdown",
   "metadata": {},
   "source": [
    "#### Data loading & preparations"
   ]
  },
  {
   "cell_type": "code",
   "execution_count": 5,
   "metadata": {},
   "outputs": [],
   "source": [
    "model_data[\"datetime\"] = pd.to_datetime(model_data[\"inspection_date\"])\n",
    "model_data[\"class_label\"] = model_data.label.apply(lambda x: 1 if x == 2 else 0)\n",
    "model_data.sort_values(\"datetime\", inplace=True)\n",
    "df=model_data.drop(columns='label').copy()\n",
    "\n",
    "df = df.drop(['license','facility_type', 'inspection_date', 'datetime'], axis = 1)\n",
    "df.dropna(inplace=True)\n",
    "df=df.set_index('inspection_id')"
   ]
  },
  {
   "cell_type": "code",
   "execution_count": 6,
   "metadata": {},
   "outputs": [
    {
     "data": {
      "text/html": [
       "<div>\n",
       "<style scoped>\n",
       "    .dataframe tbody tr th:only-of-type {\n",
       "        vertical-align: middle;\n",
       "    }\n",
       "\n",
       "    .dataframe tbody tr th {\n",
       "        vertical-align: top;\n",
       "    }\n",
       "\n",
       "    .dataframe thead th {\n",
       "        text-align: right;\n",
       "    }\n",
       "</style>\n",
       "<table border=\"1\" class=\"dataframe\">\n",
       "  <thead>\n",
       "    <tr style=\"text-align: right;\">\n",
       "      <th></th>\n",
       "      <th>pass_flag</th>\n",
       "      <th>fail_flag</th>\n",
       "      <th>v_1</th>\n",
       "      <th>v_2</th>\n",
       "      <th>v_3</th>\n",
       "      <th>v_4</th>\n",
       "      <th>v_5</th>\n",
       "      <th>v_6</th>\n",
       "      <th>v_7</th>\n",
       "      <th>v_8</th>\n",
       "      <th>...</th>\n",
       "      <th>pv_70</th>\n",
       "      <th>time_since_last</th>\n",
       "      <th>first_record</th>\n",
       "      <th>age_at_inspection</th>\n",
       "      <th>burglary_kde</th>\n",
       "      <th>temperature_max</th>\n",
       "      <th>humidity</th>\n",
       "      <th>precip_intensity</th>\n",
       "      <th>wind_speed</th>\n",
       "      <th>class_label</th>\n",
       "    </tr>\n",
       "    <tr>\n",
       "      <th>inspection_id</th>\n",
       "      <th></th>\n",
       "      <th></th>\n",
       "      <th></th>\n",
       "      <th></th>\n",
       "      <th></th>\n",
       "      <th></th>\n",
       "      <th></th>\n",
       "      <th></th>\n",
       "      <th></th>\n",
       "      <th></th>\n",
       "      <th></th>\n",
       "      <th></th>\n",
       "      <th></th>\n",
       "      <th></th>\n",
       "      <th></th>\n",
       "      <th></th>\n",
       "      <th></th>\n",
       "      <th></th>\n",
       "      <th></th>\n",
       "      <th></th>\n",
       "      <th></th>\n",
       "    </tr>\n",
       "  </thead>\n",
       "  <tbody>\n",
       "    <tr>\n",
       "      <th>626348</th>\n",
       "      <td>1</td>\n",
       "      <td>0</td>\n",
       "      <td>0</td>\n",
       "      <td>0</td>\n",
       "      <td>0</td>\n",
       "      <td>0</td>\n",
       "      <td>0</td>\n",
       "      <td>0</td>\n",
       "      <td>0</td>\n",
       "      <td>0</td>\n",
       "      <td>...</td>\n",
       "      <td>0</td>\n",
       "      <td>2.000000</td>\n",
       "      <td>1</td>\n",
       "      <td>1.382615</td>\n",
       "      <td>18.237634</td>\n",
       "      <td>21</td>\n",
       "      <td>91</td>\n",
       "      <td>12.7</td>\n",
       "      <td>11</td>\n",
       "      <td>0</td>\n",
       "    </tr>\n",
       "    <tr>\n",
       "      <th>545724</th>\n",
       "      <td>1</td>\n",
       "      <td>0</td>\n",
       "      <td>0</td>\n",
       "      <td>0</td>\n",
       "      <td>0</td>\n",
       "      <td>0</td>\n",
       "      <td>0</td>\n",
       "      <td>0</td>\n",
       "      <td>0</td>\n",
       "      <td>0</td>\n",
       "      <td>...</td>\n",
       "      <td>0</td>\n",
       "      <td>1.716632</td>\n",
       "      <td>0</td>\n",
       "      <td>3.214237</td>\n",
       "      <td>24.050009</td>\n",
       "      <td>21</td>\n",
       "      <td>91</td>\n",
       "      <td>12.7</td>\n",
       "      <td>11</td>\n",
       "      <td>1</td>\n",
       "    </tr>\n",
       "    <tr>\n",
       "      <th>659845</th>\n",
       "      <td>0</td>\n",
       "      <td>0</td>\n",
       "      <td>0</td>\n",
       "      <td>1</td>\n",
       "      <td>1</td>\n",
       "      <td>0</td>\n",
       "      <td>0</td>\n",
       "      <td>0</td>\n",
       "      <td>0</td>\n",
       "      <td>0</td>\n",
       "      <td>...</td>\n",
       "      <td>0</td>\n",
       "      <td>2.000000</td>\n",
       "      <td>1</td>\n",
       "      <td>0.988364</td>\n",
       "      <td>21.058573</td>\n",
       "      <td>21</td>\n",
       "      <td>91</td>\n",
       "      <td>12.7</td>\n",
       "      <td>11</td>\n",
       "      <td>0</td>\n",
       "    </tr>\n",
       "  </tbody>\n",
       "</table>\n",
       "<p>3 rows × 108 columns</p>\n",
       "</div>"
      ],
      "text/plain": [
       "               pass_flag  fail_flag  v_1  v_2  v_3  v_4  v_5  v_6  v_7  v_8  \\\n",
       "inspection_id                                                                 \n",
       "626348                 1          0    0    0    0    0    0    0    0    0   \n",
       "545724                 1          0    0    0    0    0    0    0    0    0   \n",
       "659845                 0          0    0    1    1    0    0    0    0    0   \n",
       "\n",
       "               ...  pv_70  time_since_last  first_record  age_at_inspection  \\\n",
       "inspection_id  ...                                                            \n",
       "626348         ...      0         2.000000             1           1.382615   \n",
       "545724         ...      0         1.716632             0           3.214237   \n",
       "659845         ...      0         2.000000             1           0.988364   \n",
       "\n",
       "               burglary_kde  temperature_max  humidity  precip_intensity  \\\n",
       "inspection_id                                                              \n",
       "626348            18.237634               21        91              12.7   \n",
       "545724            24.050009               21        91              12.7   \n",
       "659845            21.058573               21        91              12.7   \n",
       "\n",
       "               wind_speed  class_label  \n",
       "inspection_id                           \n",
       "626348                 11            0  \n",
       "545724                 11            1  \n",
       "659845                 11            0  \n",
       "\n",
       "[3 rows x 108 columns]"
      ]
     },
     "execution_count": 6,
     "metadata": {},
     "output_type": "execute_result"
    }
   ],
   "source": [
    "df.head(3)"
   ]
  },
  {
   "cell_type": "markdown",
   "metadata": {},
   "source": [
    "#### Standardization "
   ]
  },
  {
   "cell_type": "code",
   "execution_count": 7,
   "metadata": {},
   "outputs": [],
   "source": [
    "X_train, X_test, y_train, y_test = train_test_split(\n",
    "    df.drop(columns='class_label'), df['class_label'],\n",
    "    test_size=0.20, random_state=1,\n",
    ")"
   ]
  },
  {
   "cell_type": "code",
   "execution_count": 10,
   "metadata": {},
   "outputs": [],
   "source": [
    "feature_scaler = MinMaxScaler()\n",
    "X_train_scaled = feature_scaler.fit_transform(X_train)\n",
    "X_test_scaled = feature_scaler.transform(X_test)"
   ]
  },
  {
   "cell_type": "markdown",
   "metadata": {},
   "source": [
    "### SOLUTION-4"
   ]
  },
  {
   "cell_type": "markdown",
   "metadata": {},
   "source": [
    "#### Feature Engineering\n",
    "\n"
   ]
  },
  {
   "cell_type": "code",
   "execution_count": 11,
   "metadata": {},
   "outputs": [],
   "source": [
    "select_feature = SelectKBest(chi2, k=15).fit(X_train_scaled, y_train)\n",
    "x_train_s4=select_feature.transform(X_train_scaled)\n",
    "x_test_s4 = select_feature.transform(X_test_scaled)"
   ]
  },
  {
   "cell_type": "markdown",
   "metadata": {},
   "source": [
    "#### Class Imbalance"
   ]
  },
  {
   "cell_type": "code",
   "execution_count": 12,
   "metadata": {},
   "outputs": [
    {
     "data": {
      "text/plain": [
       "0    46820\n",
       "1    46820\n",
       "Name: class_label, dtype: int64"
      ]
     },
     "execution_count": 12,
     "metadata": {},
     "output_type": "execute_result"
    }
   ],
   "source": [
    "sm = SMOTE(random_state = 42)\n",
    "X_train_oversampled_s4, y_train_oversampled_s4 = sm.fit_sample(x_train_s4, y_train)\n",
    "pd.Series(y_train_oversampled_s4).value_counts().sort_index()"
   ]
  },
  {
   "cell_type": "markdown",
   "metadata": {},
   "source": [
    "#### Modeling & Prediction"
   ]
  },
  {
   "cell_type": "markdown",
   "metadata": {},
   "source": [
    "##### SVM HyperOpt (Parameter tuning)"
   ]
  },
  {
   "cell_type": "code",
   "execution_count": 12,
   "metadata": {},
   "outputs": [
    {
     "name": "stdout",
     "output_type": "stream",
     "text": [
      "100%|██████████| 10/10 [3:08:02<00:00, 1128.22s/trial, best loss: 0.15415420760358822] \n"
     ]
    }
   ],
   "source": [
    "best_score=1.0\n",
    "\n",
    "def objective(space):\n",
    "    \n",
    "    global best_score\n",
    "    model = SVC(**space)   \n",
    "    kfold = StratifiedKFold(n_splits=kFoldSplits, random_state=seed, shuffle=True) # KFold is also an option.\n",
    "    score = 1-cross_val_score(model, X_train_oversampled_s4, y_train_oversampled_s4, cv=kfold, scoring=metric, verbose=False).mean() \n",
    "    # Careful here (score). The objective function will be  minimized, thus somme treatment on your score might be needed.\n",
    "    \n",
    "    if (score < best_score):\n",
    "        best_score=score\n",
    "    \n",
    "    return score \n",
    "\n",
    "space = {\n",
    "      'C': hp.choice('C', np.arange(0.005,1.0,0.1)),\n",
    "      'kernel': hp.choice('kernel',['poly', 'rbf']),\n",
    "      'degree':hp.choice('degree',[2,3,4]),\n",
    "      'probability':hp.choice('probability',[True])\n",
    "      }\n",
    "\n",
    "n_iter_hopt = 10\n",
    "seed = 42\n",
    "kFoldSplits = 2\n",
    "metric='accuracy'\n",
    "\n",
    "trials = Trials() \n",
    "start = time.time()\n",
    "best = fmin(objective, \n",
    "            space = space, \n",
    "            algo = tpe.suggest, \n",
    "            max_evals = n_iter_hopt,\n",
    "            trials = trials,\n",
    "            rstate = np.random.RandomState(seed))\n",
    "\n",
    "elapsed_time_hopt = time.time() - start\n",
    "\n"
   ]
  },
  {
   "cell_type": "code",
   "execution_count": 13,
   "metadata": {},
   "outputs": [
    {
     "name": "stdout",
     "output_type": "stream",
     "text": [
      "The best hyperparameters are :  \n",
      "\n",
      "{'C': 6, 'degree': 2, 'kernel': 1, 'probability': 0}\n"
     ]
    }
   ],
   "source": [
    "print(\"The best hyperparameters are : \",\"\\n\")\n",
    "print(best)"
   ]
  },
  {
   "cell_type": "code",
   "execution_count": 13,
   "metadata": {},
   "outputs": [
    {
     "name": "stdout",
     "output_type": "stream",
     "text": [
      "CPU times: user 1h 7min 7s, sys: 1.56 s, total: 1h 7min 9s\n",
      "Wall time: 1h 7min 10s\n",
      "Accuracy is of SVM (HyperOpt) 83.35800032889328\n",
      "Precision of SVM (HyperOpt) 14.690265486725664\n",
      "Recall of SVM (HyperOpt) 77.57009345794393\n",
      "F1 score of SVM (HyperOpt) 24.702380952380953\n",
      "              precision    recall  f1-score   support\n",
      "\n",
      "           0       0.99      0.84      0.91     11734\n",
      "           1       0.15      0.78      0.25       428\n",
      "\n",
      "    accuracy                           0.83     12162\n",
      "   macro avg       0.57      0.81      0.58     12162\n",
      "weighted avg       0.96      0.83      0.88     12162\n",
      "\n"
     ]
    },
    {
     "data": {
      "image/png": "[encoded data removed]",
      "text/plain": [
       "<Figure size 432x288 with 2 Axes>"
      ]
     },
     "metadata": {
      "needs_background": "light"
     },
     "output_type": "display_data"
    }
   ],
   "source": [
    "clf=SVC(kernel='rbf', probability=True, C=6, gamma='scale', degree=2)\n",
    "# Fit model\n",
    "%time clf.fit(X_train_oversampled_s4, y_train_oversampled_s4)\n",
    "yhat1 = clf.predict(x_test_s4)\n",
    "\n",
    "accuracy = accuracy_score(y_test, yhat1)*100\n",
    "print(\"Accuracy is of SVM (HyperOpt)\", accuracy)\n",
    "\n",
    "precision = precision_score(y_test, yhat1)*100\n",
    "print(\"Precision of SVM (HyperOpt)\", precision)\n",
    "\n",
    "recall = recall_score(y_test, yhat1)*100\n",
    "print(\"Recall of SVM (HyperOpt)\", recall)\n",
    "\n",
    "f1 = f1_score(y_test, yhat1)*100\n",
    "print(\"F1 score of SVM (HyperOpt)\", f1)\n",
    "\n",
    "labels = [0,1] \n",
    "print(classification_report(y_test, yhat1, labels)) #classification report from sklearn\n",
    "cnf_matrix = confusion_matrix(y_test, yhat1, labels=labels)\n",
    "plt.imshow(cnf_matrix, cmap=plt.cm.Blues) #plot confusion matrix grid\n",
    "threshold = cnf_matrix.max() / 2 #threshold to define text color\n",
    "for i in range(cnf_matrix.shape[0]): #print text in grid\n",
    "    for j in range(cnf_matrix.shape[1]): \n",
    "        plt.text(j, i, cnf_matrix[i,j], color=\"w\" if cnf_matrix[i,j] > threshold else 'black')\n",
    "tick_marks = np.arange(len(labels)) #define labeling spacing based on number of classes\n",
    "plt.xticks(tick_marks, labels, rotation=45)\n",
    "plt.yticks(tick_marks, labels)\n",
    "plt.ylabel('True label')\n",
    "plt.xlabel('Predicted label')\n",
    "plt.colorbar()\n",
    "plt.tight_layout()"
   ]
  },
  {
   "cell_type": "markdown",
   "metadata": {},
   "source": [
    "### SOLUTION-5 "
   ]
  },
  {
   "cell_type": "markdown",
   "metadata": {},
   "source": [
    "#### Feature Engineering"
   ]
  },
  {
   "cell_type": "code",
   "execution_count": 14,
   "metadata": {},
   "outputs": [],
   "source": [
    "clf_rf = RandomForestClassifier()      \n",
    "rfe = RFE(estimator=clf_rf, n_features_to_select=15, step=1)\n",
    "rfe = rfe.fit(X_train_scaled, y_train)"
   ]
  },
  {
   "cell_type": "code",
   "execution_count": 15,
   "metadata": {},
   "outputs": [
    {
     "name": "stdout",
     "output_type": "stream",
     "text": [
      "Chosen best 15 feature by rfe: Index(['v_5', 'v_34', 'v_38', 'critical_count', 'serious_count', 'minor_count',\n",
      "       'past_minor', 'time_since_last', 'first_record', 'age_at_inspection',\n",
      "       'burglary_kde', 'temperature_max', 'humidity', 'precip_intensity',\n",
      "       'wind_speed'],\n",
      "      dtype='object')\n"
     ]
    }
   ],
   "source": [
    "print('Chosen best 15 feature by rfe:',X_train.columns[rfe.support_])"
   ]
  },
  {
   "cell_type": "code",
   "execution_count": 16,
   "metadata": {},
   "outputs": [],
   "source": [
    "x_train_s5=rfe.transform(X_train_scaled)\n",
    "x_test_s5 = rfe.transform(X_test_scaled)"
   ]
  },
  {
   "cell_type": "markdown",
   "metadata": {},
   "source": [
    "#### Class Imbalance "
   ]
  },
  {
   "cell_type": "code",
   "execution_count": 17,
   "metadata": {},
   "outputs": [
    {
     "data": {
      "text/plain": [
       "0    46820\n",
       "1    46820\n",
       "Name: class_label, dtype: int64"
      ]
     },
     "execution_count": 17,
     "metadata": {},
     "output_type": "execute_result"
    }
   ],
   "source": [
    "sm = SMOTE(random_state = 42)\n",
    "X_train_oversampled_s5, y_train_oversampled_s5 = sm.fit_sample(x_train_s5, y_train)\n",
    "pd.Series(y_train_oversampled_s5).value_counts().sort_index()"
   ]
  },
  {
   "cell_type": "markdown",
   "metadata": {},
   "source": [
    "#### Modeling & prediction "
   ]
  },
  {
   "cell_type": "markdown",
   "metadata": {},
   "source": [
    "##### RandomForest (Default parameter)"
   ]
  },
  {
   "cell_type": "code",
   "execution_count": 22,
   "metadata": {},
   "outputs": [
    {
     "name": "stdout",
     "output_type": "stream",
     "text": [
      "CPU times: user 24.9 s, sys: 16 ms, total: 25 s\n",
      "Wall time: 25 s\n",
      "Accuracy is of RandomForest 95.47771748067751\n",
      "Precision of RandomForest 35.944700460829495\n",
      "Recall of RandomForest 36.44859813084112\n",
      "F1 score of RandomForest 36.19489559164734\n",
      "              precision    recall  f1-score   support\n",
      "\n",
      "           0       0.98      0.98      0.98     11734\n",
      "           1       0.36      0.36      0.36       428\n",
      "\n",
      "    accuracy                           0.95     12162\n",
      "   macro avg       0.67      0.67      0.67     12162\n",
      "weighted avg       0.96      0.95      0.95     12162\n",
      "\n"
     ]
    },
    {
     "data": {
      "image/png": "[encoded data removed]",
      "text/plain": [
       "<Figure size 432x288 with 2 Axes>"
      ]
     },
     "metadata": {
      "needs_background": "light"
     },
     "output_type": "display_data"
    }
   ],
   "source": [
    "#random forest classifier with n_estimators=10 (default)\n",
    "classifier_rf = RandomForestClassifier()      \n",
    "%time classifier_rf = classifier_rf.fit(X_train_oversampled_s5,y_train_oversampled_s5)\n",
    "yhat1_rf=classifier_rf.predict(x_test_s5)\n",
    "\n",
    "accuracy_rf = accuracy_score(y_test, yhat1_rf)*100\n",
    "print(\"Accuracy is of RandomForest\", accuracy_rf)\n",
    "\n",
    "precision_rf = precision_score(y_test, yhat1_rf)*100\n",
    "print(\"Precision of RandomForest\", precision_rf)\n",
    "\n",
    "recall_rf = recall_score(y_test, yhat1_rf)*100\n",
    "print(\"Recall of RandomForest\", recall_rf)\n",
    "\n",
    "f1_rf = f1_score(y_test, yhat1_rf)*100\n",
    "print(\"F1 score of RandomForest\", f1_rf)\n",
    "\n",
    "labels = [0,1] \n",
    "print(classification_report(y_test, yhat1_rf, labels)) #classification report from sklearn\n",
    "cnf_matrix = confusion_matrix(y_test, yhat1_rf, labels=labels)\n",
    "plt.imshow(cnf_matrix, cmap=plt.cm.Blues) #plot confusion matrix grid\n",
    "threshold = cnf_matrix.max() / 2 #threshold to define text color\n",
    "for i in range(cnf_matrix.shape[0]): #print text in grid\n",
    "    for j in range(cnf_matrix.shape[1]): \n",
    "        plt.text(j, i, cnf_matrix[i,j], color=\"w\" if cnf_matrix[i,j] > threshold else 'black')\n",
    "tick_marks = np.arange(len(labels)) #define labeling spacing based on number of classes\n",
    "plt.xticks(tick_marks, labels, rotation=45)\n",
    "plt.yticks(tick_marks, labels)\n",
    "plt.ylabel('True label')\n",
    "plt.xlabel('Predicted label')\n",
    "plt.colorbar()\n",
    "plt.tight_layout()"
   ]
  },
  {
   "cell_type": "code",
   "execution_count": null,
   "metadata": {},
   "outputs": [],
   "source": []
  },
  {
   "cell_type": "markdown",
   "metadata": {},
   "source": [
    "##### XGBoost"
   ]
  },
  {
   "cell_type": "code",
   "execution_count": 20,
   "metadata": {},
   "outputs": [
    {
     "name": "stdout",
     "output_type": "stream",
     "text": [
      "CPU times: user 3min 3s, sys: 234 ms, total: 3min 3s\n",
      "Wall time: 1min 32s\n",
      "Accuracy is of XGBoost 96.76862358164774\n",
      "Precision of XGBoost 56.86274509803921\n",
      "Recall of XGBoost 33.8785046728972\n",
      "F1 score of XGBoost 42.4597364568082\n",
      "              precision    recall  f1-score   support\n",
      "\n",
      "           0       0.98      0.99      0.98     11734\n",
      "           1       0.57      0.34      0.42       428\n",
      "\n",
      "    accuracy                           0.97     12162\n",
      "   macro avg       0.77      0.66      0.70     12162\n",
      "weighted avg       0.96      0.97      0.96     12162\n",
      "\n"
     ]
    },
    {
     "data": {
      "image/png": "[encoded data removed]",
      "text/plain": [
       "<Figure size 432x288 with 2 Axes>"
      ]
     },
     "metadata": {
      "needs_background": "light"
     },
     "output_type": "display_data"
    }
   ],
   "source": [
    "classifier_xgb = xgb.XGBClassifier(\n",
    "    n_estimators=1000,\n",
    "    max_depth=7,\n",
    "    learning_rate=0.4,\n",
    "    #subsample=0.9,\n",
    "    colsample_bytree=0.6,\n",
    "    missing=-999,\n",
    "    random_state=2020,\n",
    ")\n",
    "\n",
    "%time classifier_xgb.fit(X_train_oversampled_s5,y_train_oversampled_s5)\n",
    "yhat1_xgb = classifier_xgb.predict(x_test_s5)\n",
    "\n",
    "accuracy_xgb = accuracy_score(y_test, yhat1_xgb)*100\n",
    "print(\"Accuracy is of XGBoost\", accuracy_xgb)\n",
    "\n",
    "precision_xgb = precision_score(y_test, yhat1_xgb)*100\n",
    "print(\"Precision of XGBoost\", precision_xgb)\n",
    "\n",
    "recall_xgb = recall_score(y_test, yhat1_xgb)*100\n",
    "print(\"Recall of XGBoost\", recall_xgb)\n",
    "\n",
    "f1_xgb = f1_score(y_test, yhat1_xgb)*100\n",
    "print(\"F1 score of XGBoost\", f1_xgb)\n",
    "\n",
    "labels = [0,1] \n",
    "print(classification_report(y_test, yhat1_xgb, labels)) #classification report from sklearn\n",
    "cnf_matrix = confusion_matrix(y_test, yhat1_xgb, labels=labels)\n",
    "plt.imshow(cnf_matrix, cmap=plt.cm.Blues) #plot confusion matrix grid\n",
    "threshold = cnf_matrix.max() / 2 #threshold to define text color\n",
    "for i in range(cnf_matrix.shape[0]): #print text in grid\n",
    "    for j in range(cnf_matrix.shape[1]): \n",
    "        plt.text(j, i, cnf_matrix[i,j], color=\"w\" if cnf_matrix[i,j] > threshold else 'black')\n",
    "tick_marks = np.arange(len(labels)) #define labeling spacing based on number of classes\n",
    "plt.xticks(tick_marks, labels, rotation=45)\n",
    "plt.yticks(tick_marks, labels)\n",
    "plt.ylabel('True label')\n",
    "plt.xlabel('Predicted label')\n",
    "plt.colorbar()\n",
    "plt.tight_layout()\n"
   ]
  },
  {
   "cell_type": "code",
   "execution_count": 21,
   "metadata": {},
   "outputs": [
    {
     "name": "stdout",
     "output_type": "stream",
     "text": [
      "No Skill: ROC AUC=0.500\n",
      "Logistic: ROC AUC=0.867\n"
     ]
    },
    {
     "data": {
      "image/png": "[encoded data removed]",
      "text/plain": [
       "<Figure size 432x288 with 1 Axes>"
      ]
     },
     "metadata": {
      "needs_background": "light"
     },
     "output_type": "display_data"
    }
   ],
   "source": [
    "# generate a no skill prediction (majority class)\n",
    "\n",
    "lr_probs = classifier_xgb.predict_proba(x_test_s5)\n",
    "ns_probs = [0 for _ in range(len(y_test))]\n",
    "\n",
    "# keep probabilities for the positive outcome only\n",
    "\n",
    "lr_probs = lr_probs[:, 1]\n",
    "\n",
    "# calculate scores\n",
    "ns_auc = roc_auc_score(y_test, ns_probs)\n",
    "lr_auc = roc_auc_score(y_test, lr_probs)\n",
    "\n",
    "# summarize scores\n",
    "print('No Skill: ROC AUC=%.3f' % (ns_auc))\n",
    "print('Logistic: ROC AUC=%.3f' % (lr_auc))\n",
    "\n",
    "# calculate roc curves\n",
    "ns_fpr, ns_tpr, _ = roc_curve(y_test, ns_probs)\n",
    "lr_fpr, lr_tpr, _ = roc_curve(y_test, lr_probs)\n",
    "\n",
    "# plot the roc curve for the model\n",
    "plt.plot(ns_fpr, ns_tpr, linestyle='--', label='No Skill')\n",
    "plt.plot(lr_fpr, lr_tpr, marker='.', label='SVM')\n",
    "\n",
    "# axis labels\n",
    "plt.xlabel('False Positive Rate')\n",
    "plt.ylabel('True Positive Rate')\n",
    "# show the legend\n",
    "\n",
    "plt.legend()\n",
    "# show the plot\n",
    "plt.show()"
   ]
  },
  {
   "cell_type": "code",
   "execution_count": null,
   "metadata": {},
   "outputs": [],
   "source": []
  },
  {
   "cell_type": "code",
   "execution_count": null,
   "metadata": {},
   "outputs": [],
   "source": []
  },
  {
   "cell_type": "code",
   "execution_count": null,
   "metadata": {},
   "outputs": [],
   "source": []
  }
 ],
 "metadata": {
  "kernelspec": {
   "display_name": "Python 3",
   "language": "python",
   "name": "python3"
  },
  "language_info": {
   "codemirror_mode": {
    "name": "ipython",
    "version": 3
   },
   "file_extension": ".py",
   "mimetype": "text/x-python",
   "name": "python",
   "nbconvert_exporter": "python",
   "pygments_lexer": "ipython3",
   "version": "3.8.6"
  }
 },
 "nbformat": 4,
 "nbformat_minor": 4
}
