{
  "nbformat": 4,
  "nbformat_minor": 0,
  "metadata": {
    "colab": {
      "name": "CFIP_solution_notebook_MultiClass.ipynb",
      "provenance": [],
      "collapsed_sections": [
        "WOKrvc-9Z5tp",
        "25pxXQHynKsZ",
        "iyuYrxoxZu4_",
        "evO9vDhhaZ-A",
        "Gb7JBhvOdqXP",
        "788GUbQOaky7",
        "3Po5xDZhavAs",
        "XO3f8QLyaxzt",
        "Gr7cCBPhauNa",
        "2H5fx6ByqMMp",
        "61MGCkuUe5VZ",
        "Dq6l5IireWsQ",
        "dyD7HEkykKSj",
        "NDPAYVFOk4Ef",
        "gucsgm_bl-Uv",
        "X0bZq3MTlhJk",
        "KLo3B3pqQ22u",
        "8lgQZRCN52rV"
      ]
    },
    "kernelspec": {
      "name": "python3",
      "display_name": "Python 3"
    },
    "accelerator": "GPU"
  },
  "cells": [
    {
      "cell_type": "markdown",
      "metadata": {
        "id": "WOKrvc-9Z5tp"
      },
      "source": [
        "### Importing libraries"
      ]
    },
    {
      "cell_type": "code",
      "metadata": {
        "colab": {
          "base_uri": "https://localhost:8080/"
        },
        "id": "eQqHrwtTYcN9",
        "outputId": "54290ad3-b01f-4917-a920-23d80edb7157"
      },
      "source": [
        "import pandas as pd\r\n",
        "import numpy as np\r\n",
        "import matplotlib.pyplot as plt\r\n",
        "from datetime import datetime\r\n",
        "import seaborn as sns\r\n",
        "\r\n",
        "\r\n",
        "import sklearn\r\n",
        "from sklearn.preprocessing import StandardScaler, MinMaxScaler\r\n",
        "from sklearn.feature_selection import RFE\r\n",
        "from sklearn import model_selection\r\n",
        "from sklearn.model_selection import train_test_split\r\n",
        "from sklearn.model_selection import StratifiedKFold\r\n",
        "from sklearn.model_selection import GridSearchCV,RandomizedSearchCV\r\n",
        "from sklearn.feature_selection import SelectKBest\r\n",
        "from sklearn.feature_selection import chi2\r\n",
        "from sklearn.ensemble import GradientBoostingClassifier\r\n",
        "from sklearn.ensemble import RandomForestClassifier\r\n",
        "from sklearn.metrics import mean_squared_error\r\n",
        "from sklearn.metrics import accuracy_score,f1_score,confusion_matrix,precision_score,recall_score,roc_auc_score,roc_curve\r\n",
        "from sklearn.metrics import classification_report\r\n",
        "\r\n",
        "import xgboost as xgb\r\n",
        "import lightgbm as lgb\r\n",
        "import gc\r\n",
        "\r\n",
        "\r\n",
        "from imblearn.over_sampling import RandomOverSampler\r\n",
        "from imblearn.pipeline import Pipeline\r\n",
        "from imblearn.over_sampling import SMOTE\r\n",
        "\r\n",
        "from hyperopt import STATUS_OK, Trials, fmin, hp, tpe\r\n",
        "\r\n",
        "import tensorflow as tf\r\n",
        "from tensorflow import keras\r\n",
        "from tensorflow.keras import layers\r\n",
        "\r\n",
        "import warnings\r\n",
        "warnings.filterwarnings('ignore')"
      ],
      "execution_count": null,
      "outputs": [
        {
          "output_type": "stream",
          "text": [
            "/usr/local/lib/python3.7/dist-packages/sklearn/externals/six.py:31: FutureWarning: The module is deprecated in version 0.21 and will be removed in version 0.23 since we've dropped support for Python 2.7. Please rely on the official version of six (https://pypi.org/project/six/).\n",
            "  \"(https://pypi.org/project/six/).\", FutureWarning)\n",
            "/usr/local/lib/python3.7/dist-packages/sklearn/utils/deprecation.py:144: FutureWarning: The sklearn.neighbors.base module is  deprecated in version 0.22 and will be removed in version 0.24. The corresponding classes / functions should instead be imported from sklearn.neighbors. Anything that cannot be imported from sklearn.neighbors is now part of the private API.\n",
            "  warnings.warn(message, FutureWarning)\n"
          ],
          "name": "stderr"
        }
      ]
    },
    {
      "cell_type": "markdown",
      "metadata": {
        "id": "25pxXQHynKsZ"
      },
      "source": [
        "## Data Preprocessing"
      ]
    },
    {
      "cell_type": "markdown",
      "metadata": {
        "id": "iyuYrxoxZu4_"
      },
      "source": [
        "### Data loading and preparation"
      ]
    },
    {
      "cell_type": "code",
      "metadata": {
        "colab": {
          "base_uri": "https://localhost:8080/"
        },
        "id": "tDx8fudtV4RC",
        "outputId": "10ce0da2-5740-450e-e065-b276c1f45b5e"
      },
      "source": [
        "from google.colab import drive\r\n",
        "drive.mount('/content/drive', force_remount=True) "
      ],
      "execution_count": null,
      "outputs": [
        {
          "output_type": "stream",
          "text": [
            "Mounted at /content/drive\n"
          ],
          "name": "stdout"
        }
      ]
    },
    {
      "cell_type": "code",
      "metadata": {
        "id": "SXFdob9GZD1V"
      },
      "source": [
        "model_data = pd.read_csv(\"/content/drive/MyDrive/colab_data/chicago_food_inspection/model_data_final.csv\")\r\n",
        "\r\n",
        "model_data[\"datetime\"] = pd.to_datetime(model_data[\"inspection_date\"])\r\n",
        "#model_data.sort_values(\"datetime\", inplace=True)\r\n",
        "df=model_data.copy()\r\n",
        "\r\n",
        "df = df.drop(['license','facility_type', 'inspection_date', 'datetime'], axis = 1)\r\n",
        "df.dropna(inplace=True)\r\n",
        "\r\n",
        "dfIndexLabel = pd.DataFrame({\r\n",
        "    \"inspection_id\": df.inspection_id,\r\n",
        "    \"label\": df.label,\r\n",
        "})\r\n",
        "df=df.set_index('inspection_id')"
      ],
      "execution_count": null,
      "outputs": []
    },
    {
      "cell_type": "markdown",
      "metadata": {
        "id": "evO9vDhhaZ-A"
      },
      "source": [
        "### Standardization"
      ]
    },
    {
      "cell_type": "code",
      "metadata": {
        "id": "Ww8-JudeaMDY"
      },
      "source": [
        "X_train, X_test, y_train, y_test = train_test_split(\r\n",
        "    df.drop(columns='label'), df['label'],\r\n",
        "    test_size=0.20, random_state=1,\r\n",
        ")\r\n",
        "\r\n",
        "feature_scaler = MinMaxScaler()\r\n",
        "X_train_scaled = feature_scaler.fit_transform(X_train)\r\n",
        "X_test_scaled = feature_scaler.transform(X_test)"
      ],
      "execution_count": null,
      "outputs": []
    },
    {
      "cell_type": "markdown",
      "metadata": {
        "id": "Gb7JBhvOdqXP"
      },
      "source": [
        "## SOLUTION-1"
      ]
    },
    {
      "cell_type": "markdown",
      "metadata": {
        "id": "788GUbQOaky7"
      },
      "source": [
        "### Class Imbalance"
      ]
    },
    {
      "cell_type": "code",
      "metadata": {
        "colab": {
          "base_uri": "https://localhost:8080/"
        },
        "id": "Jf-3GliWaitL",
        "outputId": "1eb50478-c6a9-4ae9-d186-1a5b634a3da7"
      },
      "source": [
        "sm = SMOTE(random_state = 42, k_neighbors=11)\r\n",
        "X_train_oversampled_s1, y_train_oversampled_s1 = sm.fit_sample(X_train_scaled, y_train)\r\n",
        "\r\n",
        "pd.Series(y_train_oversampled_s1).value_counts().sort_index()"
      ],
      "execution_count": null,
      "outputs": [
        {
          "output_type": "execute_result",
          "data": {
            "text/plain": [
              "0    38273\n",
              "1    38273\n",
              "2    38273\n",
              "dtype: int64"
            ]
          },
          "metadata": {
            "tags": []
          },
          "execution_count": 8
        }
      ]
    },
    {
      "cell_type": "markdown",
      "metadata": {
        "id": "3Po5xDZhavAs"
      },
      "source": [
        "### Modeling & Prediction"
      ]
    },
    {
      "cell_type": "markdown",
      "metadata": {
        "id": "XO3f8QLyaxzt"
      },
      "source": [
        "#### XGBoost (Default parameters)"
      ]
    },
    {
      "cell_type": "code",
      "metadata": {
        "colab": {
          "base_uri": "https://localhost:8080/",
          "height": 592
        },
        "id": "rdwJ7QUiaiqk",
        "outputId": "ee7a881e-90c3-4036-d3fc-52b12ecd9b8b"
      },
      "source": [
        "classifier_xgboost = xgb.XGBClassifier(\r\n",
        "    n_estimators=1000,\r\n",
        "    max_depth=7,\r\n",
        "    learning_rate=0.4,\r\n",
        "    #subsample=0.9,\r\n",
        "    colsample_bytree=0.6,\r\n",
        "    missing=-999,\r\n",
        "    random_state=2020,\r\n",
        "    tree_method='gpu_hist'\r\n",
        " \r\n",
        ")\r\n",
        "\r\n",
        "# Fit model\r\n",
        "%time classifier_xgboost.fit(X_train_oversampled_s1, y_train_oversampled_s1)\r\n",
        "yhat1_xgb = classifier_xgboost.predict(X_test_scaled)\r\n",
        "\r\n",
        "accuracy = accuracy_score(y_test, yhat1_xgb)*100\r\n",
        "print(\"Accuracy is of XGBoost\", accuracy)\r\n",
        "\r\n",
        "precision = precision_score(y_test, yhat1_xgb, average='weighted')*100\r\n",
        "print(\"Precision of XGBoost\", precision)\r\n",
        "\r\n",
        "recall = recall_score(y_test, yhat1_xgb,average='weighted')*100\r\n",
        "print(\"Recall of XGBoost\", recall)\r\n",
        "\r\n",
        "f1 = f1_score(y_test, yhat1_xgb,average='weighted')*100\r\n",
        "print(\"F1 score of XGBoost\", f1)\r\n",
        "\r\n",
        "labels = [0,1,2] \r\n",
        "print(classification_report(y_test, yhat1_xgb, labels)) \r\n",
        "cnf_matrix = confusion_matrix(y_test, yhat1_xgb, labels=labels)\r\n",
        "plt.imshow(cnf_matrix, cmap=plt.cm.Blues) \r\n",
        "threshold = cnf_matrix.max() / 2 \r\n",
        "for i in range(cnf_matrix.shape[0]): \r\n",
        "    for j in range(cnf_matrix.shape[1]): \r\n",
        "        plt.text(j, i, cnf_matrix[i,j], color=\"w\" if cnf_matrix[i,j] > threshold else 'black')\r\n",
        "tick_marks = np.arange(len(labels)) \r\n",
        "plt.xticks(tick_marks, labels, rotation=45)\r\n",
        "plt.yticks(tick_marks, labels)\r\n",
        "plt.ylabel('True label')\r\n",
        "plt.xlabel('Predicted label')\r\n",
        "plt.colorbar()\r\n",
        "plt.tight_layout()"
      ],
      "execution_count": null,
      "outputs": [
        {
          "output_type": "stream",
          "text": [
            "CPU times: user 26.1 s, sys: 17.1 s, total: 43.2 s\n",
            "Wall time: 43.9 s\n",
            "Accuracy is of XGBoost 81.12152606479196\n",
            "Precision of XGBoost 78.45474199078895\n",
            "Recall of XGBoost 81.12152606479196\n",
            "F1 score of XGBoost 79.03161326780351\n",
            "              precision    recall  f1-score   support\n",
            "\n",
            "           0       0.85      0.94      0.90      9541\n",
            "           1       0.53      0.31      0.39      2142\n",
            "           2       0.61      0.43      0.51       479\n",
            "\n",
            "    accuracy                           0.81     12162\n",
            "   macro avg       0.66      0.56      0.60     12162\n",
            "weighted avg       0.78      0.81      0.79     12162\n",
            "\n"
          ],
          "name": "stdout"
        },
        {
          "output_type": "display_data",
          "data": {
            "image/png": "[encoded data removed]",
            "text/plain": [
              "<Figure size 432x288 with 2 Axes>"
            ]
          },
          "metadata": {
            "tags": [],
            "needs_background": "light"
          }
        }
      ]
    },
    {
      "cell_type": "markdown",
      "metadata": {
        "id": "Gr7cCBPhauNa"
      },
      "source": [
        "## SOLUTION-2"
      ]
    },
    {
      "cell_type": "markdown",
      "metadata": {
        "id": "2H5fx6ByqMMp"
      },
      "source": [
        "### Feature Engineering"
      ]
    },
    {
      "cell_type": "code",
      "metadata": {
        "id": "58e0OBJPqDfq"
      },
      "source": [
        "clf_rf = RandomForestClassifier(n_estimators=10,n_jobs=-1)      \r\n",
        "rfe = RFE(estimator=clf_rf, n_features_to_select=10, step=1)\r\n",
        "rfe = rfe.fit(X_train_scaled, y_train)"
      ],
      "execution_count": null,
      "outputs": []
    },
    {
      "cell_type": "code",
      "metadata": {
        "colab": {
          "base_uri": "https://localhost:8080/"
        },
        "id": "uMk9SiSUqCcx",
        "outputId": "f1fc36c5-6a12-429e-c03c-6f0dc84f7e8f"
      },
      "source": [
        "print('Chosen best 10 feature by rfe:',X_train.columns[rfe.support_])"
      ],
      "execution_count": null,
      "outputs": [
        {
          "output_type": "stream",
          "text": [
            "Chosen best 10 feature by rfe: Index(['critical_count', 'minor_count', 'past_minor', 'time_since_last',\n",
            "       'age_at_inspection', 'burglary_kde', 'temperature_max', 'humidity',\n",
            "       'precip_intensity', 'wind_speed'],\n",
            "      dtype='object')\n"
          ],
          "name": "stdout"
        }
      ]
    },
    {
      "cell_type": "markdown",
      "metadata": {
        "id": "61MGCkuUe5VZ"
      },
      "source": [
        "### Class Imbalance"
      ]
    },
    {
      "cell_type": "code",
      "metadata": {
        "id": "ZJXYJ947e7SV"
      },
      "source": [
        "x_train_s2 = rfe.transform(X_train_scaled)\r\n",
        "x_test_s2 = rfe.transform(X_test_scaled)"
      ],
      "execution_count": null,
      "outputs": []
    },
    {
      "cell_type": "code",
      "metadata": {
        "colab": {
          "base_uri": "https://localhost:8080/"
        },
        "id": "X3E5-Qhee7aS",
        "outputId": "edaa61b8-273e-4217-9ac9-82e96fcf8a1d"
      },
      "source": [
        "sm = SMOTE(random_state = 42)\r\n",
        "X_train_oversampled_s2, y_train_oversampled_s2 = sm.fit_sample(x_train_s2, y_train)\r\n",
        "pd.Series(y_train_oversampled).value_counts().sort_index()"
      ],
      "execution_count": null,
      "outputs": [
        {
          "output_type": "execute_result",
          "data": {
            "text/plain": [
              "0    38302\n",
              "1    38302\n",
              "2    38302\n",
              "dtype: int64"
            ]
          },
          "metadata": {
            "tags": []
          },
          "execution_count": 40
        }
      ]
    },
    {
      "cell_type": "markdown",
      "metadata": {
        "id": "oOp6I5e4sqTs"
      },
      "source": [
        "### Modeling & predictions"
      ]
    },
    {
      "cell_type": "markdown",
      "metadata": {
        "id": "Dq6l5IireWsQ"
      },
      "source": [
        "#### Random Forest (Default parameters)\r\n",
        "\r\n",
        "\r\n",
        "\r\n"
      ]
    },
    {
      "cell_type": "code",
      "metadata": {
        "colab": {
          "base_uri": "https://localhost:8080/",
          "height": 299
        },
        "id": "PQr1Y0vhfggw",
        "outputId": "b3bb06cf-1737-42da-bf10-f1d33bab10f0"
      },
      "source": [
        "train_scores = []\r\n",
        "test_scores = []\r\n",
        "\r\n",
        "rf = RandomForestClassifier(warm_start=True, random_state=0,n_jobs=-1)\r\n",
        "estimator_range = range(1, 40, 3)\r\n",
        "for n_estimators in estimator_range:\r\n",
        "    rf.n_estimators = n_estimators\r\n",
        "    rf.fit(X_train_oversampled_s2,y_train_oversampled_s2)\r\n",
        "    train_scores.append(rf.score(X_train_oversampled_s2,y_train_oversampled_s2))\r\n",
        "    test_scores.append(rf.score(x_test_s2, y_test))\r\n",
        "\r\n",
        "plt.plot(estimator_range, test_scores, label=\"test scores\")\r\n",
        "plt.plot(estimator_range, train_scores, label=\"train scores\")\r\n",
        "plt.ylabel(\"accuracy\")\r\n",
        "plt.xlabel(\"n_estimators\")\r\n",
        "plt.legend()"
      ],
      "execution_count": null,
      "outputs": [
        {
          "output_type": "execute_result",
          "data": {
            "text/plain": [
              "<matplotlib.legend.Legend at 0x7f8dec6ab390>"
            ]
          },
          "metadata": {
            "tags": []
          },
          "execution_count": 42
        },
        {
          "output_type": "display_data",
          "data": {
            "image/png": "[encoded data removed]",
            "text/plain": [
              "<Figure size 432x288 with 1 Axes>"
            ]
          },
          "metadata": {
            "tags": [],
            "needs_background": "light"
          }
        }
      ]
    },
    {
      "cell_type": "code",
      "metadata": {
        "colab": {
          "base_uri": "https://localhost:8080/",
          "height": 596
        },
        "id": "a2kuVQKIeGOE",
        "outputId": "d7491805-388e-4fdc-f282-8475401076ee"
      },
      "source": [
        "#random forest classifier with n_estimators=10 (default)\r\n",
        "classifier_rf = RandomForestClassifier(n_estimators=10,n_jobs=-1)      \r\n",
        "%time classifier_rf = classifier_rf.fit(X_train_oversampled_s2,y_train_oversampled_s2)\r\n",
        "\r\n",
        "yhat1_rf=classifier_rf.predict(x_test_s2)\r\n",
        "\r\n",
        "accuracy_rf = accuracy_score(y_test, yhat1_rf)*100\r\n",
        "print(\"Accuracy is of RandomForest\", accuracy_rf)\r\n",
        "\r\n",
        "precision_rf = precision_score(y_test, yhat1_rf, average='weighted')*100\r\n",
        "print(\"Precision of RandomForest\", precision_rf)\r\n",
        "\r\n",
        "recall_rf = recall_score(y_test, yhat1_rf,average='weighted')*100\r\n",
        "print(\"Recall of RandomForest\", recall_rf)\r\n",
        "\r\n",
        "f1_rf = f1_score(y_test, yhat1_rf,average='weighted')*100\r\n",
        "print(\"F1 score of RandomForest\", f1_rf)\r\n",
        "\r\n",
        "labels = [0,1,2] \r\n",
        "print(classification_report(y_test, yhat1_rf, labels)) \r\n",
        "cnf_matrix = confusion_matrix(y_test, yhat1_rf, labels=labels)\r\n",
        "plt.imshow(cnf_matrix, cmap=plt.cm.Blues) \r\n",
        "threshold = cnf_matrix.max() / 2 \r\n",
        "for i in range(cnf_matrix.shape[0]): \r\n",
        "    for j in range(cnf_matrix.shape[1]): \r\n",
        "        plt.text(j, i, cnf_matrix[i,j], color=\"w\" if cnf_matrix[i,j] > threshold else 'black')\r\n",
        "tick_marks = np.arange(len(labels)) \r\n",
        "plt.xticks(tick_marks, labels, rotation=45)\r\n",
        "plt.yticks(tick_marks, labels)\r\n",
        "plt.ylabel('True label')\r\n",
        "plt.xlabel('Predicted label')\r\n",
        "plt.colorbar()\r\n",
        "plt.tight_layout()"
      ],
      "execution_count": null,
      "outputs": [
        {
          "output_type": "stream",
          "text": [
            "CPU times: user 4.45 s, sys: 16.5 ms, total: 4.47 s\n",
            "Wall time: 2.32 s\n",
            "Accuracy is of RandomForest 74.856109192567\n",
            "Precision of RandomForest 73.62385475194337\n",
            "Recall of RandomForest 74.856109192567\n",
            "F1 score of RandomForest 74.1319482587073\n",
            "              precision    recall  f1-score   support\n",
            "\n",
            "           0       0.84      0.87      0.86      9512\n",
            "           1       0.37      0.29      0.33      2222\n",
            "           2       0.30      0.38      0.34       428\n",
            "\n",
            "    accuracy                           0.75     12162\n",
            "   macro avg       0.50      0.52      0.51     12162\n",
            "weighted avg       0.74      0.75      0.74     12162\n",
            "\n"
          ],
          "name": "stdout"
        },
        {
          "output_type": "display_data",
          "data": {
            "image/png": "[encoded data removed]",
            "text/plain": [
              "<Figure size 432x288 with 2 Axes>"
            ]
          },
          "metadata": {
            "tags": [],
            "needs_background": "light"
          }
        }
      ]
    },
    {
      "cell_type": "markdown",
      "metadata": {
        "id": "dyD7HEkykKSj"
      },
      "source": [
        "#### XGBoost (Default parameters)\r\n"
      ]
    },
    {
      "cell_type": "code",
      "metadata": {
        "colab": {
          "base_uri": "https://localhost:8080/",
          "height": 596
        },
        "id": "7VmKJlo2eGL0",
        "outputId": "4e3bb6cf-147d-4f2b-bac1-81f10314840a"
      },
      "source": [
        "classifier_xgb = xgb.XGBClassifier(\r\n",
        "    n_estimators=1000,\r\n",
        "    max_depth=7,\r\n",
        "    learning_rate=0.4,\r\n",
        "    #subsample=0.9,\r\n",
        "    colsample_bytree=0.6,\r\n",
        "    missing=-999,\r\n",
        "    random_state=2020,\r\n",
        "    tree_method='gpu_hist'\r\n",
        ")\r\n",
        "\r\n",
        "%time classifier_xgb.fit(X_train_oversampled_s2,y_train_oversampled_s2)\r\n",
        "yhat1_xgb = classifier_xgb.predict(x_test_s2)\r\n",
        "\r\n",
        "accuracy_xgb = accuracy_score(y_test, yhat1_xgb)*100\r\n",
        "print(\"Accuracy is of XGBoost\", accuracy_xgb)\r\n",
        "\r\n",
        "precision_xgb = precision_score(y_test, yhat1_xgb, average='weighted')*100\r\n",
        "print(\"Precision of XGBoost\", precision_xgb)\r\n",
        "\r\n",
        "recall_xgb = recall_score(y_test, yhat1_xgb,average='weighted')*100\r\n",
        "print(\"Recall of XGBoost\", recall_xgb)\r\n",
        "\r\n",
        "f1_xgb = f1_score(y_test, yhat1_xgb,average='weighted')*100\r\n",
        "print(\"F1 score of XGBoost\", f1_xgb)\r\n",
        "\r\n",
        "labels = [0,1,2] \r\n",
        "print(classification_report(y_test, yhat1_xgb, labels)) \r\n",
        "cnf_matrix = confusion_matrix(y_test, yhat1_xgb, labels=labels)\r\n",
        "plt.imshow(cnf_matrix, cmap=plt.cm.Blues) \r\n",
        "threshold = cnf_matrix.max() / 2 \r\n",
        "for i in range(cnf_matrix.shape[0]): \r\n",
        "    for j in range(cnf_matrix.shape[1]): \r\n",
        "        plt.text(j, i, cnf_matrix[i,j], color=\"w\" if cnf_matrix[i,j] > threshold else 'black')\r\n",
        "tick_marks = np.arange(len(labels)) \r\n",
        "plt.xticks(tick_marks, labels, rotation=45)\r\n",
        "plt.yticks(tick_marks, labels)\r\n",
        "plt.ylabel('True label')\r\n",
        "plt.xlabel('Predicted label')\r\n",
        "plt.colorbar()\r\n",
        "plt.tight_layout()"
      ],
      "execution_count": null,
      "outputs": [
        {
          "output_type": "stream",
          "text": [
            "CPU times: user 18.1 s, sys: 7.48 s, total: 25.6 s\n",
            "Wall time: 25.6 s\n",
            "Accuracy is of XGBoost 79.86350929123499\n",
            "Precision of XGBoost 76.76603343937106\n",
            "Recall of XGBoost 79.86350929123499\n",
            "F1 score of XGBoost 77.37797039025955\n",
            "              precision    recall  f1-score   support\n",
            "\n",
            "           0       0.84      0.94      0.89      9512\n",
            "           1       0.52      0.28      0.36      2222\n",
            "           2       0.48      0.35      0.40       428\n",
            "\n",
            "    accuracy                           0.80     12162\n",
            "   macro avg       0.61      0.52      0.55     12162\n",
            "weighted avg       0.77      0.80      0.77     12162\n",
            "\n"
          ],
          "name": "stdout"
        },
        {
          "output_type": "display_data",
          "data": {
            "image/png": "[encoded data removed]",
            "text/plain": [
              "<Figure size 432x288 with 2 Axes>"
            ]
          },
          "metadata": {
            "tags": [],
            "needs_background": "light"
          }
        }
      ]
    },
    {
      "cell_type": "markdown",
      "metadata": {
        "id": "NDPAYVFOk4Ef"
      },
      "source": [
        "## SOLUTION-3"
      ]
    },
    {
      "cell_type": "markdown",
      "metadata": {
        "id": "gucsgm_bl-Uv"
      },
      "source": [
        "### Class Imbalance"
      ]
    },
    {
      "cell_type": "code",
      "metadata": {
        "colab": {
          "base_uri": "https://localhost:8080/"
        },
        "id": "hNAPyuNWtJPZ",
        "outputId": "260fda94-f9c0-41da-d146-8f4d9301b7cb"
      },
      "source": [
        "sm = SMOTE(random_state = 7, k_neighbors=11)\r\n",
        "X_train_oversampled_s3, y_train_oversampled_s3 = sm.fit_sample(X_train_scaled, y_train)\r\n",
        "\r\n",
        "pd.Series(y_train_oversampled_s3).value_counts().sort_index()"
      ],
      "execution_count": null,
      "outputs": [
        {
          "output_type": "execute_result",
          "data": {
            "text/plain": [
              "0    38302\n",
              "1    38302\n",
              "2    38302\n",
              "dtype: int64"
            ]
          },
          "metadata": {
            "tags": []
          },
          "execution_count": 5
        }
      ]
    },
    {
      "cell_type": "markdown",
      "metadata": {
        "id": "3xRz_qOcs3eM"
      },
      "source": [
        "### Modeling & prediction"
      ]
    },
    {
      "cell_type": "markdown",
      "metadata": {
        "id": "X0bZq3MTlhJk"
      },
      "source": [
        "#### XGBoost Hyperopt (Parameter tuning)\r\n"
      ]
    },
    {
      "cell_type": "code",
      "metadata": {
        "colab": {
          "base_uri": "https://localhost:8080/"
        },
        "id": "A8KLlvM7k76V",
        "outputId": "49dcf3cd-02b3-41d4-e1c5-104388d5ef49"
      },
      "source": [
        "search_spaces = {\r\n",
        "        'learning_rate': hp.uniform('learning_rate',0.01, 1.0),\r\n",
        "        'min_child_weight': hp.choice('min_child_weight',[0,2,4,6,8,10]),\r\n",
        "        'max_depth': hp.choice(\"max_depth\",[0,10,20,30,40,50]),\r\n",
        "        'max_delta_step': hp.choice('max_delta_step',[0,2,4,6,8,10,12,14,16,18,20]),\r\n",
        "        'subsample': hp.uniform('subsample',0.01, 1.0),\r\n",
        "        'colsample_bytree': hp.uniform('colsample_bytree',0.5, 1.0),\r\n",
        "        'colsample_bylevel': hp.uniform('colsample_bylevel',0.5, 1.0),\r\n",
        "        'reg_lambda': hp.uniform('reg_lambda',0.01, 1000),\r\n",
        "        'reg_alpha': hp.uniform('reg_alpha',0.01, 1.0),\r\n",
        "        'gamma': hp.uniform('gamma',0.01, 0.5),\r\n",
        "        'min_child_weight': hp.choice('min_child_weight',[0,1,2,3,4,5]),\r\n",
        "        'n_estimators': 1000,\r\n",
        "        'seed' : 0\r\n",
        "    }\r\n",
        "\r\n",
        "def objective(search_spaces):\r\n",
        "    clf=xgb.XGBClassifier(\r\n",
        "                    max_depth = int(search_spaces['max_depth']),\r\n",
        "                    n_estimators = int(search_spaces['n_estimators']),                   \r\n",
        "                    min_child_weight=search_spaces['min_child_weight'],\r\n",
        "                    gamma = search_spaces['gamma'],\r\n",
        "                    reg_alpha = search_spaces['reg_alpha'],\r\n",
        "                    reg_lambda = search_spaces['reg_lambda'],\r\n",
        "                    colsample_bylevel = search_spaces['colsample_bylevel'],\r\n",
        "                    colsample_bytree=search_spaces['colsample_bytree'],\r\n",
        "                    subsample = search_spaces['subsample'],\r\n",
        "                    max_delta_step=search_spaces['max_delta_step'],\r\n",
        "                    learning_rate = search_spaces['learning_rate'],\r\n",
        "                    n_jobs=-1                    \r\n",
        "                    )\r\n",
        "    \r\n",
        "    evaluation = [( X_train_oversampled_s3\r\n",
        "                   ,y_train_oversampled_s3)\r\n",
        "                   ,( X_test_scaled, y_test)]\r\n",
        "    \r\n",
        "    clf.fit(X_train_oversampled_s3, y_train_oversampled_s3,\r\n",
        "            eval_set=evaluation,\r\n",
        "            early_stopping_rounds=10,verbose=False)\r\n",
        "    \r\n",
        "\r\n",
        "    pred = clf.predict(X_test_scaled)\r\n",
        "    accuracy = accuracy_score(y_test, pred>0.5)\r\n",
        "    print (\"SCORE:\", accuracy)\r\n",
        "    return {'loss': -accuracy, 'status': STATUS_OK }\r\n",
        "\r\n",
        "best_hyperparams = fmin(fn = objective,\r\n",
        "                        space =search_spaces,\r\n",
        "                        algo = tpe.suggest,\r\n",
        "                        max_evals = 10,\r\n",
        "                        trials = Trials())"
      ],
      "execution_count": null,
      "outputs": [
        {
          "output_type": "stream",
          "text": [
            "SCORE:\n",
            "0.778079263279066\n",
            "SCORE:\n",
            "0.7929616839335636\n",
            "SCORE:\n",
            "0.7737214273968097\n",
            "SCORE:\n",
            "0.7798059529682618\n",
            "SCORE:\n",
            "0.7902483144219701\n",
            "SCORE:\n",
            "0.7713369511593487\n",
            "SCORE:\n",
            "0.7779148166419997\n",
            "SCORE:\n",
            "0.7821082058871897\n",
            "SCORE:\n",
            "0.7821082058871897\n",
            "SCORE:\n",
            "0.7889327413254399\n",
            "100%|██████████| 10/10 [1:13:26<00:00, 440.60s/it, best loss: -0.7929616839335636]\n"
          ],
          "name": "stdout"
        }
      ]
    },
    {
      "cell_type": "code",
      "metadata": {
        "colab": {
          "base_uri": "https://localhost:8080/"
        },
        "id": "OBZftDDdk73_",
        "outputId": "83576416-6448-4307-8350-797e78914d67"
      },
      "source": [
        "best_hyperparams_xgb = best_hyperparams\r\n",
        "print(\"The best hyperparameters are : \",\"\\n\")\r\n",
        "print(best_hyperparams_xgb)"
      ],
      "execution_count": null,
      "outputs": [
        {
          "output_type": "stream",
          "text": [
            "The best hyperparameters are :  \n",
            "\n",
            "{'colsample_bylevel': 0.5938041704831979, 'colsample_bytree': 0.6464242225526211, 'gamma': 0.37819015073026313, 'learning_rate': 0.4101555036953952, 'max_delta_step': 0, 'max_depth': 5, 'min_child_weight': 0, 'reg_alpha': 0.6393684356490666, 'reg_lambda': 290.96741054675834, 'subsample': 0.6795919151863579}\n"
          ],
          "name": "stdout"
        }
      ]
    },
    {
      "cell_type": "code",
      "metadata": {
        "colab": {
          "base_uri": "https://localhost:8080/",
          "height": 592
        },
        "id": "3vpuvaa2k71P",
        "outputId": "2a679795-3c11-4f5c-efdb-0711524ef825"
      },
      "source": [
        "clf=xgb.XGBClassifier(               \r\n",
        "                    max_depth = int(best_hyperparams_xgb['max_depth']),\r\n",
        "                    n_estimators = 1000,                   \r\n",
        "                    min_child_weight=best_hyperparams_xgb['min_child_weight'],\r\n",
        "                    gamma = best_hyperparams_xgb['gamma'],\r\n",
        "                    reg_alpha = best_hyperparams_xgb['reg_alpha'],\r\n",
        "                    reg_lambda = best_hyperparams_xgb['reg_lambda'],\r\n",
        "                    colsample_bylevel = best_hyperparams_xgb['colsample_bylevel'],\r\n",
        "                    colsample_bytree=best_hyperparams_xgb['colsample_bytree'],\r\n",
        "                    subsample = best_hyperparams_xgb['subsample'],\r\n",
        "                    max_delta_step=best_hyperparams_xgb['max_delta_step'],\r\n",
        "                    learning_rate = best_hyperparams_xgb['learning_rate'],\r\n",
        "                    n_jobs=-1)\r\n",
        "\r\n",
        "# Fit model\r\n",
        "%time clf.fit(X_train_oversampled_s3, y_train_oversampled_s3)\r\n",
        "yhat1 = clf.predict(X_test_scaled)\r\n",
        "\r\n",
        "accuracy = accuracy_score(y_test, yhat1)*100\r\n",
        "print(\"Accuracy is of XGBoost\", accuracy)\r\n",
        "\r\n",
        "precision = precision_score(y_test, yhat1, average='weighted')*100\r\n",
        "print(\"Precision of XGBoost\", precision)\r\n",
        "\r\n",
        "recall = recall_score(y_test, yhat1,average='weighted')*100\r\n",
        "print(\"Recall of XGBoost\", recall)\r\n",
        "\r\n",
        "f1 = f1_score(y_test, yhat1,average='weighted')*100\r\n",
        "print(\"F1 score of XGBoost\", f1)\r\n",
        "\r\n",
        "labels = [0,1,2] \r\n",
        "print(classification_report(y_test, yhat1, labels)) \r\n",
        "cnf_matrix = confusion_matrix(y_test, yhat1, labels=labels)\r\n",
        "plt.imshow(cnf_matrix, cmap=plt.cm.Blues) \r\n",
        "threshold = cnf_matrix.max() / 2 \r\n",
        "for i in range(cnf_matrix.shape[0]): \r\n",
        "    for j in range(cnf_matrix.shape[1]): \r\n",
        "        plt.text(j, i, cnf_matrix[i,j], color=\"w\" if cnf_matrix[i,j] > threshold else 'black')\r\n",
        "tick_marks = np.arange(len(labels)) \r\n",
        "plt.xticks(tick_marks, labels, rotation=45)\r\n",
        "plt.yticks(tick_marks, labels)\r\n",
        "plt.ylabel('True label')\r\n",
        "plt.xlabel('Predicted label')\r\n",
        "plt.colorbar()\r\n",
        "plt.tight_layout()"
      ],
      "execution_count": null,
      "outputs": [
        {
          "output_type": "stream",
          "text": [
            "CPU times: user 18min 27s, sys: 1.33 s, total: 18min 29s\n",
            "Wall time: 9min 20s\n",
            "Accuracy is of XGBoost 80.14306857424765\n",
            "Precision of XGBoost 77.62612996283835\n",
            "Recall of XGBoost 80.14306857424765\n",
            "F1 score of XGBoost 78.04112936294892\n",
            "              precision    recall  f1-score   support\n",
            "\n",
            "           0       0.85      0.94      0.89      9512\n",
            "           1       0.54      0.29      0.38      2222\n",
            "           2       0.43      0.46      0.45       428\n",
            "\n",
            "    accuracy                           0.80     12162\n",
            "   macro avg       0.61      0.56      0.57     12162\n",
            "weighted avg       0.78      0.80      0.78     12162\n",
            "\n"
          ],
          "name": "stdout"
        },
        {
          "output_type": "display_data",
          "data": {
            "image/png": "[encoded data removed]",
            "text/plain": [
              "<Figure size 432x288 with 2 Axes>"
            ]
          },
          "metadata": {
            "tags": [],
            "needs_background": "light"
          }
        }
      ]
    },
    {
      "cell_type": "markdown",
      "metadata": {
        "id": "KLo3B3pqQ22u"
      },
      "source": [
        "#### RandomForest Hyperopt (Parameter tuning)\r\n"
      ]
    },
    {
      "cell_type": "code",
      "metadata": {
        "colab": {
          "base_uri": "https://localhost:8080/"
        },
        "id": "iOtDpbKnRBkG",
        "outputId": "24667c0a-3d88-40ba-e341-17adb1f7f98a"
      },
      "source": [
        "search_spaces_rf = {\r\n",
        "        'n_estimators': hp.choice(\"n_estimators\",[1,5,10,15,20]), \r\n",
        "        'max_depth': hp.choice(\"max_depth\",[1,10,20,30,40,50]),\r\n",
        "        'min_samples_split': hp.choice(\"min_samples_split\",[2, 5, 10,50,100]),\r\n",
        "        'criterion': hp.choice(\"criterion\",['gini', 'entropy'])\r\n",
        "    }\r\n",
        "\r\n",
        "def objective(search_spaces_rf):\r\n",
        "    clf=RandomForestClassifier(\r\n",
        "                    max_depth = int(search_spaces_rf['max_depth']),\r\n",
        "                    n_estimators = int(search_spaces_rf['n_estimators']),\r\n",
        "                    min_samples_split = search_spaces_rf['min_samples_split'],\r\n",
        "                    criterion = search_spaces_rf['criterion'],\r\n",
        "                    n_jobs=-1                    \r\n",
        "                    )\r\n",
        "    \r\n",
        "    clf.fit(X_train_oversampled_s3, y_train_oversampled_s3)\r\n",
        "    \r\n",
        "\r\n",
        "    pred = clf.predict(X_test_scaled)\r\n",
        "    accuracy = accuracy_score(y_test, pred>0.5)\r\n",
        "    print (\"SCORE:\", accuracy)\r\n",
        "    return {'loss': -accuracy, 'status': STATUS_OK }\r\n",
        "\r\n",
        "best_hyperparams = fmin(fn = objective,\r\n",
        "                        space =search_spaces_rf,\r\n",
        "                        algo = tpe.suggest,\r\n",
        "                        max_evals = 100,\r\n",
        "                        trials = Trials())"
      ],
      "execution_count": null,
      "outputs": [
        {
          "output_type": "stream",
          "text": [
            "SCORE:\n",
            "0.7102450254892287\n",
            "SCORE:\n",
            "0.7077783259332346\n",
            "SCORE:\n",
            "0.7266074658773228\n",
            "SCORE:\n",
            "0.6788357178095707\n",
            "SCORE:\n",
            "0.7593323466535109\n",
            "SCORE:\n",
            "0.7100805788521625\n",
            "SCORE:\n",
            "0.736967604012498\n",
            "SCORE:\n",
            "0.6882913994408815\n",
            "SCORE:\n",
            "0.6990626541687223\n",
            "SCORE:\n",
            "0.7364742641012991\n",
            "SCORE:\n",
            "0.7604834731129748\n",
            "SCORE:\n",
            "0.7128761716822891\n",
            "SCORE:\n",
            "0.7572767636901825\n",
            "SCORE:\n",
            "0.7487255385627364\n",
            "SCORE:\n",
            "0.7349942443677027\n",
            "SCORE:\n",
            "0.740585430027956\n",
            "SCORE:\n",
            "0.7512744614372636\n",
            "SCORE:\n",
            "0.7507811215260648\n",
            "SCORE:\n",
            "0.6758756783423779\n",
            "SCORE:\n",
            "0.6267061338595625\n",
            "SCORE:\n",
            "0.7579345502384476\n",
            "SCORE:\n",
            "0.7606479197500411\n",
            "SCORE:\n",
            "0.7639368524913666\n",
            "SCORE:\n",
            "0.7597434632461766\n",
            "SCORE:\n",
            "0.759414569972044\n",
            "SCORE:\n",
            "0.7629501726689689\n",
            "SCORE:\n",
            "0.6675711231705311\n",
            "SCORE:\n",
            "0.6827002137806282\n",
            "SCORE:\n",
            "0.6646933070218713\n",
            "SCORE:\n",
            "0.6221838513402401\n",
            "SCORE:\n",
            "0.7659102121361618\n",
            "SCORE:\n",
            "0.7497944417036672\n",
            "SCORE:\n",
            "0.7375431672422299\n",
            "SCORE:\n",
            "0.7571945403716493\n",
            "SCORE:\n",
            "0.765416872224963\n",
            "SCORE:\n",
            "0.7457654990955435\n",
            "SCORE:\n",
            "0.7083538891629666\n",
            "SCORE:\n",
            "0.7407498766650222\n",
            "SCORE:\n",
            "0.7658279888176287\n",
            "SCORE:\n",
            "0.7592501233349778\n",
            "SCORE:\n",
            "0.6782601545798388\n",
            "SCORE:\n",
            "0.6974181877980595\n",
            "SCORE:\n",
            "0.7603190264759085\n",
            "SCORE:\n",
            "0.7370498273310311\n",
            "SCORE:\n",
            "0.7480677520144713\n",
            "SCORE:\n",
            "0.6661733267554678\n",
            "SCORE:\n",
            "0.6963492846571288\n",
            "SCORE:\n",
            "0.7579345502384476\n",
            "SCORE:\n",
            "0.7511100148001973\n",
            "SCORE:\n",
            "0.7115605985857589\n",
            "SCORE:\n",
            "0.7142739680973524\n",
            "SCORE:\n",
            "0.7631146193060352\n",
            "SCORE:\n",
            "0.7022693635915146\n",
            "SCORE:\n",
            "0.6691333662226607\n",
            "SCORE:\n",
            "0.7543167242229897\n",
            "SCORE:\n",
            "0.7353231376418352\n",
            "SCORE:\n",
            "0.7586745601052458\n",
            "SCORE:\n",
            "0.7622101628021707\n",
            "SCORE:\n",
            "0.6683933563558625\n",
            "SCORE:\n",
            "0.7125472784081566\n",
            "SCORE:\n",
            "0.7333497779970399\n",
            "SCORE:\n",
            "0.7472455188291399\n",
            "SCORE:\n",
            "0.744285479361947\n",
            "SCORE:\n",
            "0.7547278408156554\n",
            "SCORE:\n",
            "0.6646110837033382\n",
            "SCORE:\n",
            "0.7626212793948364\n",
            "SCORE:\n",
            "0.7634435125801677\n",
            "SCORE:\n",
            "0.764183522446966\n",
            "SCORE:\n",
            "0.759414569972044\n",
            "SCORE:\n",
            "0.7619634928465713\n",
            "SCORE:\n",
            "0.761799046209505\n",
            "SCORE:\n",
            "0.7656635421805624\n",
            "SCORE:\n",
            "0.6899358658115442\n",
            "SCORE:\n",
            "0.7636901825357671\n",
            "SCORE:\n",
            "0.7354875842789015\n",
            "SCORE:\n",
            "0.7114783752672258\n",
            "SCORE:\n",
            "0.7445321493175464\n",
            "SCORE:\n",
            "0.7622101628021707\n",
            "SCORE:\n",
            "0.7450254892287452\n",
            "SCORE:\n",
            "0.7660746587732281\n",
            "SCORE:\n",
            "0.6660911034369347\n",
            "SCORE:\n",
            "0.5843611248149976\n",
            "SCORE:\n",
            "0.764183522446966\n",
            "SCORE:\n",
            "0.7152606479197501\n",
            "SCORE:\n",
            "0.7619634928465713\n",
            "SCORE:\n",
            "0.7029271501397797\n",
            "SCORE:\n",
            "0.7571945403716493\n",
            "SCORE:\n",
            "0.6663377733925341\n",
            "SCORE:\n",
            "0.7567834237789837\n",
            "SCORE:\n",
            "0.756290083867785\n",
            "SCORE:\n",
            "0.5771254727840816\n",
            "SCORE:\n",
            "0.7609768130241736\n",
            "SCORE:\n",
            "0.7438743627692813\n",
            "SCORE:\n",
            "0.6939648084196678\n",
            "SCORE:\n",
            "0.7655813188620293\n",
            "SCORE:\n",
            "0.6564709751685578\n",
            "SCORE:\n",
            "0.7512744614372636\n",
            "SCORE:\n",
            "0.7596612399276435\n",
            "SCORE:\n",
            "0.7417365564874199\n",
            "SCORE:\n",
            "0.7228251932247985\n",
            "100%|██████████| 100/100 [04:47<00:00,  2.88s/it, best loss: -0.7660746587732281]\n"
          ],
          "name": "stdout"
        }
      ]
    },
    {
      "cell_type": "code",
      "metadata": {
        "colab": {
          "base_uri": "https://localhost:8080/"
        },
        "id": "EuTwwVjVk7l_",
        "outputId": "bcc5d83d-12f2-48ee-cfd5-905bfeb0e150"
      },
      "source": [
        "best_hyperparams_rf = best_hyperparams\r\n",
        "print(\"The best hyperparameters are : \",\"\\n\")\r\n",
        "print(best_hyperparams_rf)"
      ],
      "execution_count": null,
      "outputs": [
        {
          "output_type": "stream",
          "text": [
            "The best hyperparameters are :  \n",
            "\n",
            "{'criterion': 0, 'max_depth': 5, 'min_samples_split': 1, 'n_estimators': 4}\n"
          ],
          "name": "stdout"
        }
      ]
    },
    {
      "cell_type": "code",
      "metadata": {
        "colab": {
          "base_uri": "https://localhost:8080/",
          "height": 592
        },
        "id": "NFNrOFWpk7jZ",
        "outputId": "83ed0e69-f446-40bc-f001-52957b39df80"
      },
      "source": [
        "clf=RandomForestClassifier(\r\n",
        "                    max_depth = int(best_hyperparams_rf['max_depth']),\r\n",
        "                    n_estimators = int(best_hyperparams_rf['n_estimators']),\r\n",
        "                    min_samples_split = 2,\r\n",
        "                    criterion = 'gini',\r\n",
        "                    n_jobs=-1                    \r\n",
        "                    )\r\n",
        "# Fit model\r\n",
        "%time clf.fit(X_train_oversampled_s3, y_train_oversampled_s3)\r\n",
        "yhat1 = clf.predict(X_test_scaled)\r\n",
        "\r\n",
        "accuracy = accuracy_score(y_test, yhat1)*100\r\n",
        "print(\"Accuracy is of XGBoost\", accuracy)\r\n",
        "\r\n",
        "precision = precision_score(y_test, yhat1, average='weighted')*100\r\n",
        "print(\"Precision of XGBoost\", precision)\r\n",
        "\r\n",
        "recall = recall_score(y_test, yhat1,average='weighted')*100\r\n",
        "print(\"Recall of XGBoost\", recall)\r\n",
        "\r\n",
        "f1 = f1_score(y_test, yhat1,average='weighted')*100\r\n",
        "print(\"F1 score of XGBoost\", f1)\r\n",
        "\r\n",
        "labels = [0,1,2] \r\n",
        "print(classification_report(y_test, yhat1, labels)) \r\n",
        "cnf_matrix = confusion_matrix(y_test, yhat1, labels=labels)\r\n",
        "plt.imshow(cnf_matrix, cmap=plt.cm.Blues) \r\n",
        "threshold = cnf_matrix.max() / 2 \r\n",
        "for i in range(cnf_matrix.shape[0]): \r\n",
        "    for j in range(cnf_matrix.shape[1]): \r\n",
        "        plt.text(j, i, cnf_matrix[i,j], color=\"w\" if cnf_matrix[i,j] > threshold else 'black')\r\n",
        "tick_marks = np.arange(len(labels)) \r\n",
        "plt.xticks(tick_marks, labels, rotation=45)\r\n",
        "plt.yticks(tick_marks, labels)\r\n",
        "plt.ylabel('True label')\r\n",
        "plt.xlabel('Predicted label')\r\n",
        "plt.colorbar()\r\n",
        "plt.tight_layout()"
      ],
      "execution_count": null,
      "outputs": [
        {
          "output_type": "stream",
          "text": [
            "CPU times: user 528 ms, sys: 3 ms, total: 531 ms\n",
            "Wall time: 336 ms\n",
            "Accuracy is of XGBoost 61.700378227265254\n",
            "Precision of XGBoost 72.63685816574001\n",
            "Recall of XGBoost 61.700378227265254\n",
            "F1 score of XGBoost 65.73555848213495\n",
            "              precision    recall  f1-score   support\n",
            "\n",
            "           0       0.86      0.69      0.77      9512\n",
            "           1       0.25      0.28      0.27      2222\n",
            "           2       0.15      0.73      0.25       428\n",
            "\n",
            "    accuracy                           0.62     12162\n",
            "   macro avg       0.42      0.57      0.43     12162\n",
            "weighted avg       0.73      0.62      0.66     12162\n",
            "\n"
          ],
          "name": "stdout"
        },
        {
          "output_type": "display_data",
          "data": {
            "image/png": "[encoded data removed]",
            "text/plain": [
              "<Figure size 432x288 with 2 Axes>"
            ]
          },
          "metadata": {
            "tags": [],
            "needs_background": "light"
          }
        }
      ]
    },
    {
      "cell_type": "code",
      "metadata": {
        "id": "HoxTMoDAk7gv"
      },
      "source": [
        ""
      ],
      "execution_count": null,
      "outputs": []
    },
    {
      "cell_type": "markdown",
      "metadata": {
        "id": "8lgQZRCN52rV"
      },
      "source": [
        "#### LightGBM Hyperopt (Parameter tuning)\r\n"
      ]
    },
    {
      "cell_type": "code",
      "metadata": {
        "id": "xGhKnGkhcvr3"
      },
      "source": [
        "#GLOBAL HYPEROPT PARAMETERS\r\n",
        "NUM_EVALS = 10 #number of hyperopt evaluation rounds\r\n",
        "N_FOLDS = 5 #number of cross-validation folds on data in each evaluation round\r\n",
        "\r\n",
        "#LIGHTGBM PARAMETERS\r\n",
        "LGBM_MAX_LEAVES = 2**11 #maximum number of leaves per tree for LightGBM\r\n",
        "LGBM_MAX_DEPTH = 25 #maximum tree depth for LightGBM\r\n",
        "EVAL_METRIC_LGBM_REG = 'mae' #LightGBM regression metric. Note that 'rmse' is more commonly used \r\n",
        "EVAL_METRIC_LGBM_CLASS = 'multi_logloss'#LightGBM classification metric\r\n",
        "\r\n",
        "#OPTIONAL OUTPUT\r\n",
        "BEST_SCORE = 0\r\n",
        "\r\n",
        "def quick_hyperopt(data, labels, package, num_evals=NUM_EVALS, diagnostic=False):\r\n",
        "\r\n",
        "    if package=='lgbm':\r\n",
        "        \r\n",
        "        print('Running {} rounds of LightGBM parameter optimisation:'.format(num_evals))\r\n",
        "        gc.collect()\r\n",
        "        \r\n",
        "        integer_params = ['max_depth',\r\n",
        "                         'num_leaves',\r\n",
        "                         'max_bin',\r\n",
        "                         'min_data_in_leaf',\r\n",
        "                         'min_data_in_bin',\r\n",
        "                         'num_class']\r\n",
        "        \r\n",
        "        def objective(space_params):\r\n",
        "            \r\n",
        "            \r\n",
        "            for param in integer_params:\r\n",
        "                space_params[param] = int(space_params[param])\r\n",
        "            \r\n",
        "            \r\n",
        "            if space_params['boosting']['boosting'] == 'goss':\r\n",
        "                top_rate = space_params['boosting'].get('top_rate')\r\n",
        "                other_rate = space_params['boosting'].get('other_rate')\r\n",
        "                \r\n",
        "                top_rate = max(top_rate, 0)\r\n",
        "                top_rate = min(top_rate, 0.5)\r\n",
        "                other_rate = max(other_rate, 0)\r\n",
        "                other_rate = min(other_rate, 0.5)\r\n",
        "                space_params['top_rate'] = top_rate\r\n",
        "                space_params['other_rate'] = other_rate\r\n",
        "            \r\n",
        "            subsample = space_params['boosting'].get('subsample', 1.0)\r\n",
        "            space_params['boosting'] = space_params['boosting']['boosting']\r\n",
        "            space_params['subsample'] = subsample\r\n",
        "            \r\n",
        "            \r\n",
        "            cv_results = lgb.cv(space_params, train, nfold = N_FOLDS, stratified=True,\r\n",
        "                                early_stopping_rounds=100, metrics=EVAL_METRIC_LGBM_CLASS, seed=42)\r\n",
        "            \r\n",
        "            \r\n",
        "            best_loss = 1 - cv_results['multi_logloss-mean'][-1]\r\n",
        "           \r\n",
        "            return{'loss':best_loss, 'status': STATUS_OK }\r\n",
        "        \r\n",
        "        train = lgb.Dataset(data, labels)\r\n",
        "                \r\n",
        "        \r\n",
        "        boosting_list = [{'boosting': 'gbdt',\r\n",
        "                          'subsample': hp.uniform('subsample', 0.5, 1)},\r\n",
        "                         {'boosting': 'goss',\r\n",
        "                          'subsample': 1.0,\r\n",
        "                         'top_rate': hp.uniform('top_rate', 0, 0.5),\r\n",
        "                         'other_rate': hp.uniform('other_rate', 0, 0.5)}] \r\n",
        "\r\n",
        "        metric_list = ['multi_logloss']\r\n",
        "        objective_list_reg = ['huber', 'gamma', 'fair', 'tweedie']\r\n",
        "        objective_list_class = ['multiclass']\r\n",
        "\r\n",
        "        objective_list = objective_list_class\r\n",
        "\r\n",
        "        space ={'boosting' : hp.choice('boosting', boosting_list),\r\n",
        "                'num_leaves' : hp.quniform('num_leaves', 2, LGBM_MAX_LEAVES, 1),\r\n",
        "                'max_depth': hp.quniform('max_depth', 2, LGBM_MAX_DEPTH, 1),\r\n",
        "                'max_bin': hp.quniform('max_bin', 32, 255, 1),\r\n",
        "                'min_data_in_leaf': hp.quniform('min_data_in_leaf', 1, 256, 1),\r\n",
        "                'min_data_in_bin': hp.quniform('min_data_in_bin', 1, 256, 1),\r\n",
        "                'min_gain_to_split' : hp.quniform('min_gain_to_split', 0.1, 5, 0.01),\r\n",
        "                'lambda_l1' : hp.uniform('lambda_l1', 0, 5),\r\n",
        "                'lambda_l2' : hp.uniform('lambda_l2', 0, 5),\r\n",
        "                'learning_rate' : hp.loguniform('learning_rate', np.log(0.005), np.log(0.2)),\r\n",
        "                'metric' : hp.choice('metric', metric_list),\r\n",
        "                'objective' : hp.choice('objective', objective_list),\r\n",
        "                'feature_fraction' : hp.quniform('feature_fraction', 0.5, 1, 0.01),\r\n",
        "                'bagging_fraction' : hp.quniform('bagging_fraction', 0.5, 1, 0.01),\r\n",
        "                'num_class' : hp.choice('num_class', [3])\r\n",
        "            }\r\n",
        "        \r\n",
        "\r\n",
        "        trials = Trials()\r\n",
        "        best = fmin(fn=objective,\r\n",
        "                    space=space,\r\n",
        "                    algo=tpe.suggest,\r\n",
        "                    max_evals=num_evals, \r\n",
        "                    trials=trials)\r\n",
        "                \r\n",
        "\r\n",
        "        best['boosting'] = boosting_list[best['boosting']]['boosting']\r\n",
        "        best['metric'] = metric_list[best['metric']]\r\n",
        "        best['objective'] = objective_list[best['objective']]\r\n",
        "\r\n",
        "        for param in integer_params:\r\n",
        "            best[param] = int(best[param])\r\n",
        "        \r\n",
        "        print('{' + '\\n'.join('{}: {}'.format(k, v) for k, v in best.items()) + '}')\r\n",
        "        if diagnostic:\r\n",
        "            return(best, trials)\r\n",
        "        else:\r\n",
        "            return(best)\r\n",
        "      "
      ],
      "execution_count": null,
      "outputs": []
    },
    {
      "cell_type": "code",
      "metadata": {
        "colab": {
          "base_uri": "https://localhost:8080/"
        },
        "id": "C7zKJ61fcvnW",
        "outputId": "4aec9442-d4ea-43dc-8cc5-6d6aff7f4f0b"
      },
      "source": [
        "lgbm_params = quick_hyperopt(X_train_oversampled_s3, y_train_oversampled_s3, 'lgbm', 200)"
      ],
      "execution_count": null,
      "outputs": [
        {
          "output_type": "stream",
          "text": [
            "Running 200 rounds of LightGBM parameter optimisation:\n",
            "100%|██████████| 200/200 [2:15:23<00:00, 40.62s/it, best loss: -0.0038563181055242257]\n",
            "{bagging_fraction: 0.88\n",
            "boosting: goss\n",
            "feature_fraction: 0.55\n",
            "lambda_l1: 4.781578442106322\n",
            "lambda_l2: 1.081777567931213\n",
            "learning_rate: 0.005031221621782062\n",
            "max_bin: 169\n",
            "max_depth: 2\n",
            "metric: multi_logloss\n",
            "min_data_in_bin: 10\n",
            "min_data_in_leaf: 151\n",
            "min_gain_to_split: 2.88\n",
            "num_class: 0\n",
            "num_leaves: 1852\n",
            "objective: multiclass\n",
            "other_rate: 0.059286001030588925\n",
            "top_rate: 0.04952478338292399}\n"
          ],
          "name": "stdout"
        }
      ]
    },
    {
      "cell_type": "code",
      "metadata": {
        "colab": {
          "base_uri": "https://localhost:8080/"
        },
        "id": "_8oCiGjP7TAN",
        "outputId": "36e50d5f-76a0-40d1-ad3a-0ec3e428e951"
      },
      "source": [
        "clf_lgb = lgb.LGBMClassifier(**lgbm_params)\r\n",
        "\r\n",
        "# Fit model\r\n",
        "%time clf_lgb.fit(X_train_oversampled_s3, y_train_oversampled_s3)\r\n",
        "yhat1 = clf_lgb.predict(X_test_scaled)"
      ],
      "execution_count": null,
      "outputs": [
        {
          "output_type": "stream",
          "text": [
            "CPU times: user 9.59 s, sys: 75.8 ms, total: 9.67 s\n",
            "Wall time: 4.98 s\n"
          ],
          "name": "stdout"
        }
      ]
    },
    {
      "cell_type": "code",
      "metadata": {
        "colab": {
          "base_uri": "https://localhost:8080/",
          "height": 556
        },
        "id": "8Jk87LCNcvcq",
        "outputId": "0fa3ab4a-4672-4a20-b91b-377c77da60d5"
      },
      "source": [
        "accuracy = accuracy_score(y_test, yhat1)*100\r\n",
        "print(\"Accuracy is of XGBoost\", accuracy)\r\n",
        "\r\n",
        "precision = precision_score(y_test, yhat1, average='weighted')*100\r\n",
        "print(\"Precision of XGBoost\", precision)\r\n",
        "\r\n",
        "recall = recall_score(y_test, yhat1,average='weighted')*100\r\n",
        "print(\"Recall of XGBoost\", recall)\r\n",
        "\r\n",
        "f1 = f1_score(y_test, yhat1,average='weighted')*100\r\n",
        "print(\"F1 score of XGBoost\", f1)\r\n",
        "\r\n",
        "labels = [0,1,2] \r\n",
        "print(classification_report(y_test, yhat1, labels)) \r\n",
        "cnf_matrix = confusion_matrix(y_test, yhat1, labels=labels)\r\n",
        "plt.imshow(cnf_matrix, cmap=plt.cm.Blues) \r\n",
        "threshold = cnf_matrix.max() / 2 \r\n",
        "for i in range(cnf_matrix.shape[0]): \r\n",
        "    for j in range(cnf_matrix.shape[1]): \r\n",
        "        plt.text(j, i, cnf_matrix[i,j], color=\"w\" if cnf_matrix[i,j] > threshold else 'black')\r\n",
        "tick_marks = np.arange(len(labels)) \r\n",
        "plt.xticks(tick_marks, labels, rotation=45)\r\n",
        "plt.yticks(tick_marks, labels)\r\n",
        "plt.ylabel('True label')\r\n",
        "plt.xlabel('Predicted label')\r\n",
        "plt.colorbar()\r\n",
        "plt.tight_layout()"
      ],
      "execution_count": null,
      "outputs": [
        {
          "output_type": "stream",
          "text": [
            "Accuracy is of XGBoost 65.4250945568163\n",
            "Precision of XGBoost 74.17390049140164\n",
            "Recall of XGBoost 65.4250945568163\n",
            "F1 score of XGBoost 68.40832832257271\n",
            "              precision    recall  f1-score   support\n",
            "\n",
            "           0       0.87      0.76      0.81      9512\n",
            "           1       0.31      0.19      0.24      2222\n",
            "           2       0.14      0.80      0.23       428\n",
            "\n",
            "    accuracy                           0.65     12162\n",
            "   macro avg       0.44      0.58      0.43     12162\n",
            "weighted avg       0.74      0.65      0.68     12162\n",
            "\n"
          ],
          "name": "stdout"
        },
        {
          "output_type": "display_data",
          "data": {
            "image/png": "[encoded data removed]",
            "text/plain": [
              "<Figure size 432x288 with 2 Axes>"
            ]
          },
          "metadata": {
            "tags": [],
            "needs_background": "light"
          }
        }
      ]
    },
    {
      "cell_type": "code",
      "metadata": {
        "id": "H0Xsu6fkcvUk"
      },
      "source": [
        ""
      ],
      "execution_count": null,
      "outputs": []
    }
  ]
}