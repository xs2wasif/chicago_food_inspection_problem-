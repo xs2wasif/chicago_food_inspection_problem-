{
  "nbformat": 4,
  "nbformat_minor": 0,
  "metadata": {
    "colab": {
      "name": "CFIP_solution_notebook_NN_multiclass.ipynb",
      "provenance": [],
      "collapsed_sections": []
    },
    "kernelspec": {
      "name": "python3",
      "display_name": "Python 3"
    }
  },
  "cells": [
    {
      "cell_type": "code",
      "metadata": {
        "id": "XOBTZUerw9zw"
      },
      "source": [
        "import pandas as pd\r\n",
        "import numpy as np\r\n",
        "import matplotlib.pyplot as plt\r\n",
        "from datetime import datetime\r\n",
        "import seaborn as sns\r\n",
        "from functools import partial\r\n",
        "\r\n",
        "import sklearn\r\n",
        "from sklearn.preprocessing import StandardScaler, MinMaxScaler\r\n",
        "from sklearn.feature_selection import RFE\r\n",
        "from sklearn import model_selection\r\n",
        "from sklearn.model_selection import train_test_split\r\n",
        "from sklearn.model_selection import StratifiedKFold\r\n",
        "from sklearn.model_selection import GridSearchCV,RandomizedSearchCV\r\n",
        "from sklearn.feature_selection import SelectKBest\r\n",
        "from sklearn.feature_selection import chi2\r\n",
        "from sklearn.ensemble import GradientBoostingClassifier\r\n",
        "from sklearn.ensemble import RandomForestClassifier\r\n",
        "from sklearn.metrics import mean_squared_error\r\n",
        "from sklearn.metrics import accuracy_score,f1_score,confusion_matrix,precision_score,recall_score,roc_auc_score,roc_curve\r\n",
        "from sklearn.metrics import classification_report\r\n",
        "\r\n",
        "import xgboost as xgb\r\n",
        "import lightgbm as lgb\r\n",
        "import gc\r\n",
        "\r\n",
        "\r\n",
        "from imblearn.over_sampling import RandomOverSampler\r\n",
        "from imblearn.pipeline import Pipeline\r\n",
        "from imblearn.over_sampling import SMOTE\r\n",
        "\r\n",
        "from hyperopt import STATUS_OK, Trials, fmin, hp, tpe\r\n",
        "\r\n",
        "import tensorflow as tf\r\n",
        "from tensorflow import keras\r\n",
        "from tensorflow.keras import layers\r\n",
        "\r\n",
        "import warnings\r\n",
        "warnings.filterwarnings('ignore')"
      ],
      "execution_count": 49,
      "outputs": []
    },
    {
      "cell_type": "code",
      "metadata": {
        "colab": {
          "base_uri": "https://localhost:8080/"
        },
        "id": "sDYyfwR4xOLa",
        "outputId": "a0a00ccf-c8d7-4954-a616-64697d70e977"
      },
      "source": [
        "from google.colab import drive\r\n",
        "drive.mount('/content/drive', force_remount=True) "
      ],
      "execution_count": 2,
      "outputs": [
        {
          "output_type": "stream",
          "text": [
            "Mounted at /content/drive\n"
          ],
          "name": "stdout"
        }
      ]
    },
    {
      "cell_type": "code",
      "metadata": {
        "id": "bpAMiwmLxOJO"
      },
      "source": [
        "model_data = pd.read_csv(\"/content/drive/MyDrive/colab_data/chicago_food_inspection/model_data_final.csv\")\r\n",
        "\r\n",
        "model_data[\"datetime\"] = pd.to_datetime(model_data[\"inspection_date\"])\r\n",
        "model_data.sort_values(\"datetime\", inplace=True)\r\n",
        "df=model_data.copy()\r\n",
        "\r\n",
        "df = df.drop(['license','facility_type', 'inspection_date', 'datetime'], axis = 1)\r\n",
        "df.dropna(inplace=True)\r\n",
        "\r\n",
        "dfIndexLabel = pd.DataFrame({\r\n",
        "    \"inspection_id\": df.inspection_id,\r\n",
        "    \"label\": df.label,\r\n",
        "})\r\n",
        "df=df.set_index('inspection_id')"
      ],
      "execution_count": 3,
      "outputs": []
    },
    {
      "cell_type": "code",
      "metadata": {
        "id": "eFyKoAh0xOGW"
      },
      "source": [
        "X_train, X_test, y_train, y_test = train_test_split(df.drop(columns='label'), df['label'], test_size=0.2, random_state=1)\r\n",
        "\r\n",
        "X_train, X_val, y_train, y_val = train_test_split(X_train, y_train, test_size=0.25, random_state=1)\r\n",
        "\r\n",
        "feature_scaler = MinMaxScaler()\r\n",
        "X_train_scaled = feature_scaler.fit_transform(X_train)\r\n",
        "X_val_scaled = feature_scaler.transform(X_val)\r\n",
        "X_test_scaled = feature_scaler.transform(X_test)"
      ],
      "execution_count": 11,
      "outputs": []
    },
    {
      "cell_type": "code",
      "metadata": {
        "colab": {
          "base_uri": "https://localhost:8080/"
        },
        "id": "CbX8eYL8yNAw",
        "outputId": "72ce397e-2f81-4ff7-a039-74cf5ccb22c0"
      },
      "source": [
        "sm = SMOTE(random_state = 42, k_neighbors=11)\r\n",
        "X_train_oversampled_s, y_train_oversampled_s = sm.fit_sample(X_train_scaled, y_train)\r\n",
        "\r\n",
        "pd.Series(y_train_oversampled_s).value_counts().sort_index()"
      ],
      "execution_count": 12,
      "outputs": [
        {
          "output_type": "execute_result",
          "data": {
            "text/plain": [
              "0    28687\n",
              "1    28687\n",
              "2    28687\n",
              "dtype: int64"
            ]
          },
          "metadata": {
            "tags": []
          },
          "execution_count": 12
        }
      ]
    },
    {
      "cell_type": "markdown",
      "metadata": {
        "id": "B83tibGnx-8n"
      },
      "source": [
        "RELU"
      ]
    },
    {
      "cell_type": "code",
      "metadata": {
        "id": "eAfPNsoczmbJ"
      },
      "source": [
        "y_train_tf = pd.get_dummies(y_train_oversampled_s)\r\n",
        "y_val_tf = pd.get_dummies(y_val)\r\n",
        "y_test_tf = pd.get_dummies(y_test)"
      ],
      "execution_count": 22,
      "outputs": []
    },
    {
      "cell_type": "code",
      "metadata": {
        "id": "3sIs3_eHxOEB"
      },
      "source": [
        "tf.random.set_seed(42)\r\n",
        "np.random.seed(42)\r\n",
        "\r\n",
        "model = keras.Sequential([\r\n",
        "    layers.BatchNormalization(input_shape=[107]),\r\n",
        "    layers.Dense(512, activation='relu'), \r\n",
        "    layers.BatchNormalization(),\r\n",
        "    layers.Dropout(rate=0.5),\r\n",
        "    layers.Dense(256, activation='relu'), \r\n",
        "    layers.BatchNormalization(),\r\n",
        "    layers.Dropout(rate=0.5),\r\n",
        "    layers.Dense(3, activation='sigmoid'),\r\n",
        "])"
      ],
      "execution_count": 54,
      "outputs": []
    },
    {
      "cell_type": "code",
      "metadata": {
        "id": "ymz8DpnNxOBd"
      },
      "source": [
        "model.compile(loss=tf.keras.losses.categorical_crossentropy,\r\n",
        "              optimizer=tf.keras.optimizers.Adam(),\r\n",
        "              metrics=['accuracy'])\r\n",
        "\r\n",
        "early_stopping = keras.callbacks.EarlyStopping(\r\n",
        "    patience=10,\r\n",
        "    min_delta=0.001,\r\n",
        "    restore_best_weights=True,\r\n",
        ")"
      ],
      "execution_count": 55,
      "outputs": []
    },
    {
      "cell_type": "code",
      "metadata": {
        "colab": {
          "base_uri": "https://localhost:8080/"
        },
        "id": "ci7L5O14xN-4",
        "outputId": "d5183d85-b83a-450e-8039-9f1ddc33668f"
      },
      "source": [
        "history = model.fit(\r\n",
        "    X_train_oversampled_s, y_train_tf,\r\n",
        "    validation_data=(X_val_scaled, y_val_tf),\r\n",
        "    batch_size=1000,\r\n",
        "    epochs=1000,\r\n",
        "    callbacks=[early_stopping],\r\n",
        "    verbose=1\r\n",
        ")\r\n",
        "\r\n"
      ],
      "execution_count": 56,
      "outputs": [
        {
          "output_type": "stream",
          "text": [
            "Epoch 1/1000\n",
            "87/87 [==============================] - 5s 50ms/step - loss: 1.1261 - accuracy: 0.5747 - val_loss: 1.0550 - val_accuracy: 0.2691\n",
            "Epoch 2/1000\n",
            "87/87 [==============================] - 4s 47ms/step - loss: 0.7251 - accuracy: 0.6854 - val_loss: 1.3016 - val_accuracy: 0.2025\n",
            "Epoch 3/1000\n",
            "87/87 [==============================] - 4s 47ms/step - loss: 0.6551 - accuracy: 0.7122 - val_loss: 1.3800 - val_accuracy: 0.2280\n",
            "Epoch 4/1000\n",
            "87/87 [==============================] - 4s 48ms/step - loss: 0.6191 - accuracy: 0.7313 - val_loss: 1.2828 - val_accuracy: 0.3329\n",
            "Epoch 5/1000\n",
            "87/87 [==============================] - 4s 47ms/step - loss: 0.6004 - accuracy: 0.7414 - val_loss: 1.0965 - val_accuracy: 0.4382\n",
            "Epoch 6/1000\n",
            "87/87 [==============================] - 4s 48ms/step - loss: 0.5723 - accuracy: 0.7550 - val_loss: 0.9044 - val_accuracy: 0.5486\n",
            "Epoch 7/1000\n",
            "87/87 [==============================] - 4s 47ms/step - loss: 0.5535 - accuracy: 0.7625 - val_loss: 0.8510 - val_accuracy: 0.5657\n",
            "Epoch 8/1000\n",
            "87/87 [==============================] - 4s 47ms/step - loss: 0.5371 - accuracy: 0.7699 - val_loss: 0.8055 - val_accuracy: 0.6266\n",
            "Epoch 9/1000\n",
            "87/87 [==============================] - 4s 48ms/step - loss: 0.5241 - accuracy: 0.7760 - val_loss: 0.7579 - val_accuracy: 0.6483\n",
            "Epoch 10/1000\n",
            "87/87 [==============================] - 4s 47ms/step - loss: 0.5098 - accuracy: 0.7803 - val_loss: 0.7580 - val_accuracy: 0.6454\n",
            "Epoch 11/1000\n",
            "87/87 [==============================] - 4s 48ms/step - loss: 0.4976 - accuracy: 0.7889 - val_loss: 0.7578 - val_accuracy: 0.6529\n",
            "Epoch 12/1000\n",
            "87/87 [==============================] - 4s 48ms/step - loss: 0.4883 - accuracy: 0.7921 - val_loss: 0.6808 - val_accuracy: 0.6980\n",
            "Epoch 13/1000\n",
            "87/87 [==============================] - 4s 48ms/step - loss: 0.4754 - accuracy: 0.7982 - val_loss: 0.7113 - val_accuracy: 0.6803\n",
            "Epoch 14/1000\n",
            "87/87 [==============================] - 4s 48ms/step - loss: 0.4669 - accuracy: 0.8028 - val_loss: 0.6611 - val_accuracy: 0.7175\n",
            "Epoch 15/1000\n",
            "87/87 [==============================] - 4s 48ms/step - loss: 0.4541 - accuracy: 0.8076 - val_loss: 0.6690 - val_accuracy: 0.7023\n",
            "Epoch 16/1000\n",
            "87/87 [==============================] - 4s 47ms/step - loss: 0.4401 - accuracy: 0.8133 - val_loss: 0.6668 - val_accuracy: 0.7084\n",
            "Epoch 17/1000\n",
            "87/87 [==============================] - 4s 47ms/step - loss: 0.4366 - accuracy: 0.8160 - val_loss: 0.6336 - val_accuracy: 0.7272\n",
            "Epoch 18/1000\n",
            "87/87 [==============================] - 4s 47ms/step - loss: 0.4336 - accuracy: 0.8185 - val_loss: 0.6700 - val_accuracy: 0.7174\n",
            "Epoch 19/1000\n",
            "87/87 [==============================] - 4s 48ms/step - loss: 0.4229 - accuracy: 0.8204 - val_loss: 0.6309 - val_accuracy: 0.7416\n",
            "Epoch 20/1000\n",
            "87/87 [==============================] - 4s 47ms/step - loss: 0.4151 - accuracy: 0.8251 - val_loss: 0.6453 - val_accuracy: 0.7304\n",
            "Epoch 21/1000\n",
            "87/87 [==============================] - 4s 48ms/step - loss: 0.4096 - accuracy: 0.8263 - val_loss: 0.6349 - val_accuracy: 0.7351\n",
            "Epoch 22/1000\n",
            "87/87 [==============================] - 4s 48ms/step - loss: 0.4050 - accuracy: 0.8292 - val_loss: 0.6409 - val_accuracy: 0.7384\n",
            "Epoch 23/1000\n",
            "87/87 [==============================] - 4s 48ms/step - loss: 0.4016 - accuracy: 0.8295 - val_loss: 0.6465 - val_accuracy: 0.7361\n",
            "Epoch 24/1000\n",
            "87/87 [==============================] - 4s 48ms/step - loss: 0.3953 - accuracy: 0.8326 - val_loss: 0.6349 - val_accuracy: 0.7419\n",
            "Epoch 25/1000\n",
            "87/87 [==============================] - 4s 47ms/step - loss: 0.3905 - accuracy: 0.8363 - val_loss: 0.6314 - val_accuracy: 0.7444\n",
            "Epoch 26/1000\n",
            "87/87 [==============================] - 4s 48ms/step - loss: 0.3849 - accuracy: 0.8375 - val_loss: 0.6569 - val_accuracy: 0.7317\n",
            "Epoch 27/1000\n",
            "87/87 [==============================] - 4s 48ms/step - loss: 0.3805 - accuracy: 0.8407 - val_loss: 0.6322 - val_accuracy: 0.7460\n",
            "Epoch 28/1000\n",
            "87/87 [==============================] - 4s 47ms/step - loss: 0.3751 - accuracy: 0.8420 - val_loss: 0.6224 - val_accuracy: 0.7458\n",
            "Epoch 29/1000\n",
            "87/87 [==============================] - 4s 48ms/step - loss: 0.3716 - accuracy: 0.8470 - val_loss: 0.6426 - val_accuracy: 0.7407\n",
            "Epoch 30/1000\n",
            "87/87 [==============================] - 4s 48ms/step - loss: 0.3661 - accuracy: 0.8487 - val_loss: 0.6389 - val_accuracy: 0.7442\n",
            "Epoch 31/1000\n",
            "87/87 [==============================] - 4s 48ms/step - loss: 0.3633 - accuracy: 0.8502 - val_loss: 0.6288 - val_accuracy: 0.7503\n",
            "Epoch 32/1000\n",
            "87/87 [==============================] - 4s 48ms/step - loss: 0.3642 - accuracy: 0.8483 - val_loss: 0.6414 - val_accuracy: 0.7433\n",
            "Epoch 33/1000\n",
            "87/87 [==============================] - 4s 48ms/step - loss: 0.3579 - accuracy: 0.8517 - val_loss: 0.6461 - val_accuracy: 0.7455\n",
            "Epoch 34/1000\n",
            "87/87 [==============================] - 4s 48ms/step - loss: 0.3571 - accuracy: 0.8511 - val_loss: 0.6580 - val_accuracy: 0.7385\n",
            "Epoch 35/1000\n",
            "87/87 [==============================] - 4s 48ms/step - loss: 0.3514 - accuracy: 0.8539 - val_loss: 0.6437 - val_accuracy: 0.7505\n",
            "Epoch 36/1000\n",
            "87/87 [==============================] - 4s 48ms/step - loss: 0.3475 - accuracy: 0.8563 - val_loss: 0.6353 - val_accuracy: 0.7564\n",
            "Epoch 37/1000\n",
            "87/87 [==============================] - 4s 48ms/step - loss: 0.3437 - accuracy: 0.8574 - val_loss: 0.6433 - val_accuracy: 0.7493\n",
            "Epoch 38/1000\n",
            "87/87 [==============================] - 4s 48ms/step - loss: 0.3400 - accuracy: 0.8600 - val_loss: 0.6398 - val_accuracy: 0.7545\n"
          ],
          "name": "stdout"
        }
      ]
    },
    {
      "cell_type": "code",
      "metadata": {
        "colab": {
          "base_uri": "https://localhost:8080/",
          "height": 556
        },
        "id": "1VYMBntr4v9f",
        "outputId": "b9a058ea-734f-42af-a0b5-335bf2ac8ef9"
      },
      "source": [
        "yhat1_nn = model.predict_classes(X_test_scaled)\r\n",
        "\r\n",
        "accuracy = accuracy_score(y_test, yhat1_nn)*100\r\n",
        "print(\"Accuracy is of NeuralNetworks\", accuracy)\r\n",
        "\r\n",
        "precision = precision_score(y_test, yhat1_nn, average='weighted')*100\r\n",
        "print(\"Precision of NeuralNetworks\", precision)\r\n",
        "\r\n",
        "recall = recall_score(y_test, yhat1_nn,average='weighted')*100\r\n",
        "print(\"Recall of NeuralNetworks\", recall)\r\n",
        "\r\n",
        "f1 = f1_score(y_test, yhat1_nn,average='weighted')*100\r\n",
        "print(\"F1 score of NeuralNetworks\", f1)\r\n",
        "\r\n",
        "labels = [0,1,2] \r\n",
        "print(classification_report(y_test, yhat1_nn, labels)) \r\n",
        "cnf_matrix = confusion_matrix(y_test, yhat1_nn, labels=labels)\r\n",
        "plt.imshow(cnf_matrix, cmap=plt.cm.Blues) \r\n",
        "threshold = cnf_matrix.max() / 2 \r\n",
        "for i in range(cnf_matrix.shape[0]): \r\n",
        "    for j in range(cnf_matrix.shape[1]): \r\n",
        "        plt.text(j, i, cnf_matrix[i,j], color=\"w\" if cnf_matrix[i,j] > threshold else 'black')\r\n",
        "tick_marks = np.arange(len(labels)) \r\n",
        "plt.xticks(tick_marks, labels, rotation=45)\r\n",
        "plt.yticks(tick_marks, labels)\r\n",
        "plt.ylabel('True label')\r\n",
        "plt.xlabel('Predicted label')\r\n",
        "plt.colorbar()\r\n",
        "plt.tight_layout()"
      ],
      "execution_count": 59,
      "outputs": [
        {
          "output_type": "stream",
          "text": [
            "Accuracy is of NeuralNetworks 73.72142739680973\n",
            "Precision of NeuralNetworks 75.55968077574875\n",
            "Recall of NeuralNetworks 73.72142739680973\n",
            "F1 score of NeuralNetworks 74.51387534117507\n",
            "              precision    recall  f1-score   support\n",
            "\n",
            "           0       0.87      0.83      0.85      9512\n",
            "           1       0.37      0.39      0.38      2222\n",
            "           2       0.32      0.52      0.39       428\n",
            "\n",
            "    accuracy                           0.74     12162\n",
            "   macro avg       0.52      0.58      0.54     12162\n",
            "weighted avg       0.76      0.74      0.75     12162\n",
            "\n"
          ],
          "name": "stdout"
        },
        {
          "output_type": "display_data",
          "data": {
            "image/png": "[encoded data removed]",
            "text/plain": [
              "<Figure size 432x288 with 2 Axes>"
            ]
          },
          "metadata": {
            "tags": [],
            "needs_background": "light"
          }
        }
      ]
    },
    {
      "cell_type": "code",
      "metadata": {
        "colab": {
          "base_uri": "https://localhost:8080/",
          "height": 582
        },
        "id": "Js8BDc4d57LV",
        "outputId": "97898416-3c85-403c-af21-e09eb809c4f3"
      },
      "source": [
        "history_df = pd.DataFrame(history.history)\r\n",
        "history_df.loc[:, ['loss', 'val_loss']].plot(title=\"Cross-entropy\")\r\n",
        "history_df.loc[:, ['accuracy', 'val_accuracy']].plot(title=\"Accuracy\")\r\n",
        "\r\n",
        "print((\"Best Validation Loss: {:0.4f}\" +\\\r\n",
        "      \"\\nBest Validation Accuracy: {:0.4f}\")\\\r\n",
        "      .format(history_df['val_loss'].min(), \r\n",
        "              history_df['val_accuracy'].max()))"
      ],
      "execution_count": 58,
      "outputs": [
        {
          "output_type": "stream",
          "text": [
            "Best Validation Loss: 0.6224\n",
            "Best Validation Accuracy: 0.7564\n"
          ],
          "name": "stdout"
        },
        {
          "output_type": "display_data",
          "data": {
            "image/png": "[encoded data removed]",
            "text/plain": [
              "<Figure size 432x288 with 1 Axes>"
            ]
          },
          "metadata": {
            "tags": [],
            "needs_background": "light"
          }
        },
        {
          "output_type": "display_data",
          "data": {
            "image/png": "[encoded data removed]",
            "text/plain": [
              "<Figure size 432x288 with 1 Axes>"
            ]
          },
          "metadata": {
            "tags": [],
            "needs_background": "light"
          }
        }
      ]
    },
    {
      "cell_type": "code",
      "metadata": {
        "id": "gxbEpJwQ4v6-"
      },
      "source": [
        ""
      ],
      "execution_count": null,
      "outputs": []
    },
    {
      "cell_type": "code",
      "metadata": {
        "id": "t-RdgAoo4v4X"
      },
      "source": [
        ""
      ],
      "execution_count": null,
      "outputs": []
    },
    {
      "cell_type": "code",
      "metadata": {
        "id": "FhBUIcSI4v19"
      },
      "source": [
        ""
      ],
      "execution_count": null,
      "outputs": []
    }
  ]
}